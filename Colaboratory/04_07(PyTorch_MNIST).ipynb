{
 "cells": [
  {
   "cell_type": "markdown",
   "metadata": {
    "colab_type": "text",
    "id": "LFS-PKCRjMag"
   },
   "source": [
    "# 下準備\n",
    "\n",
    "\n",
    "## PyTorchのインストール"
   ]
  },
  {
   "cell_type": "code",
   "execution_count": 0,
   "metadata": {
    "colab": {
     "base_uri": "https://localhost:8080/",
     "height": 119
    },
    "colab_type": "code",
    "id": "Jg32ZeiX4qZw",
    "outputId": "8fd78e99-8e75-4fee-c140-55b4b72b1620"
   },
   "outputs": [
    {
     "name": "stdout",
     "output_type": "stream",
     "text": [
      "Requirement already satisfied: torch in /usr/local/lib/python3.6/dist-packages (1.1.0)\n",
      "Requirement already satisfied: torchvision in /usr/local/lib/python3.6/dist-packages (0.2.2.post3)\n",
      "Requirement already satisfied: numpy in /usr/local/lib/python3.6/dist-packages (from torch) (1.16.3)\n",
      "Requirement already satisfied: pillow>=4.1.1 in /usr/local/lib/python3.6/dist-packages (from torchvision) (4.3.0)\n",
      "Requirement already satisfied: six in /usr/local/lib/python3.6/dist-packages (from torchvision) (1.12.0)\n",
      "Requirement already satisfied: olefile in /usr/local/lib/python3.6/dist-packages (from pillow>=4.1.1->torchvision) (0.46)\n"
     ]
    }
   ],
   "source": [
    "!pip install torch torchvision"
   ]
  },
  {
   "cell_type": "code",
   "execution_count": 0,
   "metadata": {
    "colab": {},
    "colab_type": "code",
    "id": "Qaq_LyiCYlAJ"
   },
   "outputs": [],
   "source": [
    "import torch\n",
    "\n",
    "print(torch.__version__)"
   ]
  },
  {
   "cell_type": "markdown",
   "metadata": {
    "colab_type": "text",
    "id": "K28hN0NWMhEc"
   },
   "source": [
    "# 調理手順\n"
   ]
  },
  {
   "cell_type": "markdown",
   "metadata": {
    "colab_type": "text",
    "id": "veMbc-mfN7pv"
   },
   "source": [
    "## 必要なパッケージをインポートする"
   ]
  },
  {
   "cell_type": "code",
   "execution_count": 0,
   "metadata": {
    "colab": {},
    "colab_type": "code",
    "id": "e6lAU8OCWnOB"
   },
   "outputs": [],
   "source": [
    "import matplotlib.pyplot as plt\n",
    "import torchvision.transforms as transforms\n",
    "from torch.utils.data import DataLoader\n",
    "from torchvision.datasets import MNIST"
   ]
  },
  {
   "cell_type": "markdown",
   "metadata": {
    "colab_type": "text",
    "id": "q9jgkZvyN1Eg"
   },
   "source": [
    "## データセットのダウンロード"
   ]
  },
  {
   "cell_type": "code",
   "execution_count": 0,
   "metadata": {
    "colab": {},
    "colab_type": "code",
    "id": "YTuivz8y_Ae-"
   },
   "outputs": [],
   "source": [
    "data_folder = '~/data'\n",
    "BATCH_SIZE = 8"
   ]
  },
  {
   "cell_type": "code",
   "execution_count": 0,
   "metadata": {
    "colab": {},
    "colab_type": "code",
    "id": "V7bUjDdIWnOG"
   },
   "outputs": [],
   "source": [
    "mnist_data = MNIST(data_folder, train=True, download=True, transform=transforms.ToTensor())\n",
    "#\n",
    "data_loader = DataLoader(mnist_data, batch_size=BATCH_SIZE, shuffle=False)"
   ]
  },
  {
   "cell_type": "code",
   "execution_count": 0,
   "metadata": {
    "colab": {},
    "colab_type": "code",
    "id": "5-F0ROYk_TvI"
   },
   "outputs": [],
   "source": [
    "ls"
   ]
  },
  {
   "cell_type": "markdown",
   "metadata": {
    "colab_type": "text",
    "id": "uyPaqK-9OBB3"
   },
   "source": [
    "## データの中身を見てみる"
   ]
  },
  {
   "cell_type": "code",
   "execution_count": 0,
   "metadata": {
    "colab": {},
    "colab_type": "code",
    "id": "f-9LSCZtWnON"
   },
   "outputs": [],
   "source": [
    "data_iterator = iter(data_loader)\n",
    "images, labels = data_iterator.next()"
   ]
  },
  {
   "cell_type": "code",
   "execution_count": 0,
   "metadata": {
    "colab": {},
    "colab_type": "code",
    "id": "c1MMQaaS_hB6"
   },
   "outputs": [],
   "source": [
    "print(len(images))\n",
    "print(len(labels))"
   ]
  },
  {
   "cell_type": "markdown",
   "metadata": {
    "colab_type": "text",
    "id": "0b1meGCNOHTX"
   },
   "source": [
    "## データを可視化してみる"
   ]
  },
  {
   "cell_type": "code",
   "execution_count": 0,
   "metadata": {
    "colab": {},
    "colab_type": "code",
    "id": "Mb--62-MU-fe"
   },
   "outputs": [],
   "source": [
    "# 何番目の画像を表示しますか\n",
    "location = 4\n",
    "# numpy行列に変換した上、dataに代入します\n",
    "data = images[location].numpy()\n",
    "print(data.shape)\n",
    "# matplotlibが描画するためにデータチャンネル調整します\n",
    "reshaped_data = data.reshape(28, 28)\n",
    "# データから画像を描画します\n",
    "plt.imshow(reshaped_data, cmap='inferno', interpolation='bicubic')\n",
    "plt.show()\n",
    "print('ラベル:', labels[location])"
   ]
  },
  {
   "cell_type": "markdown",
   "metadata": {
    "colab_type": "text",
    "id": "mER3dMmaOL4s"
   },
   "source": [
    "## 学習データと検証データを用意する"
   ]
  },
  {
   "cell_type": "code",
   "execution_count": 0,
   "metadata": {
    "colab": {},
    "colab_type": "code",
    "id": "uhcMc7_IWnOU"
   },
   "outputs": [],
   "source": [
    "# 学習データ\n",
    "train_data_with_labels = MNIST(data_folder, train=True, download=True, transform=transforms.ToTensor())\n",
    "train_data_loader = DataLoader(train_data_with_labels, batch_size=BATCH_SIZE, shuffle=True)\n",
    "\n",
    "# 検証データ\n",
    "test_data_with_labels = MNIST(data_folder, train=False, download=True, transform=transforms.ToTensor())\n",
    "test_data_loader = DataLoader(test_data_with_labels, batch_size=BATCH_SIZE, shuffle=True)"
   ]
  },
  {
   "cell_type": "markdown",
   "metadata": {
    "colab_type": "text",
    "id": "bl9UnaJbRDp4"
   },
   "source": [
    "## ニューラルネットワークの定義"
   ]
  },
  {
   "cell_type": "code",
   "execution_count": 0,
   "metadata": {
    "colab": {},
    "colab_type": "code",
    "id": "2tjPMjJXWnOX"
   },
   "outputs": [],
   "source": [
    "from torch.autograd import Variable\n",
    "import torch.nn as nn\n",
    "import torch.nn.functional as F\n",
    "\n",
    "class MLP(nn.Module):\n",
    "  def __init__(self):\n",
    "    super().__init__()\n",
    "    # 入力層\n",
    "    self.layer1 = nn.Linear(28 * 28, 100)\n",
    "    # 中間層（隠れ層）\n",
    "    self.layer2 = nn.Linear(100, 50)\n",
    "    # 出力層\n",
    "    self.layer3 = nn.Linear(50,10)\n",
    "        \n",
    "  def forward(self, input_data):\n",
    "    input_data = input_data.view(-1, 28 * 28)\n",
    "    input_data = self.layer1(input_data)\n",
    "    input_data = self.layer2(input_data)\n",
    "    input_data = self.layer3(input_data)\n",
    "    return input_data"
   ]
  },
  {
   "cell_type": "markdown",
   "metadata": {
    "colab_type": "text",
    "id": "FRB1_hcPiUvx"
   },
   "source": [
    "## モデル"
   ]
  },
  {
   "cell_type": "code",
   "execution_count": 0,
   "metadata": {
    "colab": {},
    "colab_type": "code",
    "id": "4qJy6sJsiYcO"
   },
   "outputs": [],
   "source": [
    "model = MLP()"
   ]
  },
  {
   "cell_type": "markdown",
   "metadata": {
    "colab_type": "text",
    "id": "rzIoYxwTRJXb"
   },
   "source": [
    "## コスト関数と最適化手法を定義する\n",
    "\n"
   ]
  },
  {
   "cell_type": "code",
   "execution_count": 0,
   "metadata": {
    "colab": {},
    "colab_type": "code",
    "id": "9UzvWFHLWnOa"
   },
   "outputs": [],
   "source": [
    "import torch.optim as optimizer\n",
    "\n",
    "# ソフトマックスロスエントロピー\n",
    "lossResult = nn.CrossEntropyLoss()\n",
    "# SGD\n",
    "optimizer = optimizer.SGD(model.parameters(), lr=0.01)"
   ]
  },
  {
   "cell_type": "markdown",
   "metadata": {
    "colab_type": "text",
    "id": "1UdbDR-zj6jg"
   },
   "source": [
    "## 学習\n"
   ]
  },
  {
   "cell_type": "code",
   "execution_count": 0,
   "metadata": {
    "colab": {},
    "colab_type": "code",
    "id": "wPHZ4fX_WnOe"
   },
   "outputs": [],
   "source": [
    "# 最大学習回数\n",
    "MAX_EPOCH = 4\n",
    "\n",
    "for epoch in range(MAX_EPOCH):\n",
    "  total_loss = 0.0\n",
    "  for i, data in enumerate(train_data_loader):\n",
    "    \n",
    "    # dataから学習対象データと教師ラベルデータを取り出します\n",
    "    train_data, teacher_labels = data\n",
    "    \n",
    "    # 入力をtorch.autograd.Variableに変換します\n",
    "    train_data, teacher_labels = Variable(train_data), Variable(teacher_labels)\n",
    "    \n",
    "    # 計算された勾配情報を削除します\n",
    "    optimizer.zero_grad()\n",
    "    \n",
    "    # モデルに学習データを与えて予測を計算します\n",
    "    outputs = model(train_data)\n",
    "    \n",
    "    # lossとwによる微分計算します\n",
    "    loss = lossResult(outputs, teacher_labels)\n",
    "    loss.backward()\n",
    "    \n",
    "    # 勾配を更新します\n",
    "    optimizer.step()\n",
    "    \n",
    "    # 誤差を累計します\n",
    "    total_loss += loss.item()\n",
    "    \n",
    "    # 2000ミニバッチずつ、進捗を表示します \n",
    "    if i % 2000 == 1999:\n",
    "      print('学習進捗：[%d, %d]　学習誤差（loss）: %.3f' % (epoch + 1, i + 1, total_loss / 2000))\n",
    "      total_loss = 0.0\n",
    "        \n",
    "print('学習終了')"
   ]
  },
  {
   "cell_type": "markdown",
   "metadata": {
    "colab_type": "text",
    "id": "npn5XGVsWQSZ"
   },
   "source": [
    "## 検証"
   ]
  },
  {
   "cell_type": "code",
   "execution_count": 0,
   "metadata": {
    "colab": {},
    "colab_type": "code",
    "id": "Ep_R-2Z_WnOj"
   },
   "outputs": [],
   "source": [
    "import torch\n",
    "\n",
    "# トータル\n",
    "total = 0\n",
    "# 正解カウンター\n",
    "count_when_correct = 0\n",
    "\n",
    "#\n",
    "for data in test_data_loader:\n",
    "  # 検証データローダーからデータを取り出した上、アンパックします\n",
    "  test_data, teacher_labels = data\n",
    "  # テストデータを変換した上、モデルに渡して、判定してもらいます\n",
    "  results = model(Variable(test_data))\n",
    "  # 予測を取り出します\n",
    "  _, predicted = torch.max(results.data, 1)\n",
    "  #\n",
    "  total += teacher_labels.size(0)\n",
    "  count_when_correct += (predicted == teacher_labels).sum()\n",
    "\n",
    "    \n",
    "print('count_when_correct:%d'%(count_when_correct))\n",
    "print('total:%d'%(total))\n",
    "\n",
    "print('正解率：%d / %d = %f'% (count_when_correct, total, int(count_when_correct)/int(total)))"
   ]
  },
  {
   "cell_type": "markdown",
   "metadata": {
    "colab_type": "text",
    "id": "nIP4Fic_Wj1w"
   },
   "source": [
    "## 個別データで検証"
   ]
  },
  {
   "cell_type": "code",
   "execution_count": 0,
   "metadata": {
    "colab": {},
    "colab_type": "code",
    "id": "55Xfqi2sWnOn",
    "scrolled": true
   },
   "outputs": [],
   "source": [
    "test_iterator = iter(test_data_loader)\n",
    "# ここで回数を増減して、違うテストデータを取り出せます\n",
    "test_data, teacher_labels = test_iterator.next()\n",
    "# テストデータを変換した上、モデルに渡して、判定してもらいます\n",
    "results = model(Variable(test_data))\n",
    "_, predicted_label = torch.max(results.data, 1)\n",
    "\n",
    "location = 1\n",
    "plt.imshow(test_data[location].numpy().reshape(28, 28), cmap='inferno', interpolation='bicubic')\n",
    "print('ラベル：', predicted_label[location])"
   ]
  }
 ],
 "metadata": {
  "accelerator": "GPU",
  "colab": {
   "collapsed_sections": [],
   "name": "04-07(PyTorch MNIST).ipynb",
   "provenance": [],
   "version": "0.3.2"
  },
  "kernelspec": {
   "display_name": "Python 3",
   "language": "python",
   "name": "python3"
  },
  "language_info": {
   "codemirror_mode": {
    "name": "ipython",
    "version": 3
   },
   "file_extension": ".py",
   "mimetype": "text/x-python",
   "name": "python",
   "nbconvert_exporter": "python",
   "pygments_lexer": "ipython3",
   "version": "3.6.8"
  }
 },
 "nbformat": 4,
 "nbformat_minor": 1
}
