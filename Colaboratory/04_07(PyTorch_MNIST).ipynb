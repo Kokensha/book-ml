{
  "nbformat": 4,
  "nbformat_minor": 0,
  "metadata": {
    "colab": {
      "name": "04-07(PyTorch MNIST).ipynb",
      "version": "0.3.2",
      "provenance": [],
      "collapsed_sections": []
    },
    "kernelspec": {
      "name": "python3",
      "display_name": "Python 3"
    },
    "accelerator": "GPU"
  },
  "cells": [
    {
      "cell_type": "markdown",
      "metadata": {
        "id": "LFS-PKCRjMag",
        "colab_type": "text"
      },
      "source": [
        "# 下準備\n",
        "\n",
        "\n",
        "## PyTorchのインストール"
      ]
    },
    {
      "cell_type": "code",
      "metadata": {
        "id": "Jg32ZeiX4qZw",
        "colab_type": "code",
        "outputId": "8fd78e99-8e75-4fee-c140-55b4b72b1620",
        "colab": {
          "base_uri": "https://localhost:8080/",
          "height": 119
        }
      },
      "source": [
        "!pip install torch torchvision"
      ],
      "execution_count": 0,
      "outputs": [
        {
          "output_type": "stream",
          "text": [
            "Requirement already satisfied: torch in /usr/local/lib/python3.6/dist-packages (1.1.0)\n",
            "Requirement already satisfied: torchvision in /usr/local/lib/python3.6/dist-packages (0.2.2.post3)\n",
            "Requirement already satisfied: numpy in /usr/local/lib/python3.6/dist-packages (from torch) (1.16.3)\n",
            "Requirement already satisfied: pillow>=4.1.1 in /usr/local/lib/python3.6/dist-packages (from torchvision) (4.3.0)\n",
            "Requirement already satisfied: six in /usr/local/lib/python3.6/dist-packages (from torchvision) (1.12.0)\n",
            "Requirement already satisfied: olefile in /usr/local/lib/python3.6/dist-packages (from pillow>=4.1.1->torchvision) (0.46)\n"
          ],
          "name": "stdout"
        }
      ]
    },
    {
      "cell_type": "code",
      "metadata": {
        "id": "Qaq_LyiCYlAJ",
        "colab_type": "code",
        "colab": {}
      },
      "source": [
        "print(torch.__version__)"
      ],
      "execution_count": 0,
      "outputs": []
    },
    {
      "cell_type": "markdown",
      "metadata": {
        "id": "K28hN0NWMhEc",
        "colab_type": "text"
      },
      "source": [
        "# 調理手順\n"
      ]
    },
    {
      "cell_type": "markdown",
      "metadata": {
        "id": "veMbc-mfN7pv",
        "colab_type": "text"
      },
      "source": [
        "## 必要なパケージをインポートする"
      ]
    },
    {
      "cell_type": "code",
      "metadata": {
        "id": "e6lAU8OCWnOB",
        "colab_type": "code",
        "colab": {}
      },
      "source": [
        "import matplotlib.pyplot as plt\n",
        "import torchvision.transforms as transforms\n",
        "from torch.utils.data import DataLoader\n",
        "from torchvision.datasets import MNIST"
      ],
      "execution_count": 0,
      "outputs": []
    },
    {
      "cell_type": "markdown",
      "metadata": {
        "id": "q9jgkZvyN1Eg",
        "colab_type": "text"
      },
      "source": [
        "## データセットのダウンロード"
      ]
    },
    {
      "cell_type": "code",
      "metadata": {
        "id": "YTuivz8y_Ae-",
        "colab_type": "code",
        "colab": {}
      },
      "source": [
        "data_folder='~/data'\n",
        "BATCH_SIZE=8"
      ],
      "execution_count": 0,
      "outputs": []
    },
    {
      "cell_type": "code",
      "metadata": {
        "id": "V7bUjDdIWnOG",
        "colab_type": "code",
        "colab": {}
      },
      "source": [
        "mnist_data = MNIST(data_folder, train=True, download=True, transform=transforms.ToTensor())\n",
        "#\n",
        "data_loader = DataLoader(mnist_data,batch_size=BATCH_SIZE,shuffle=False)"
      ],
      "execution_count": 0,
      "outputs": []
    },
    {
      "cell_type": "code",
      "metadata": {
        "id": "5-F0ROYk_TvI",
        "colab_type": "code",
        "colab": {}
      },
      "source": [
        "ls"
      ],
      "execution_count": 0,
      "outputs": []
    },
    {
      "cell_type": "markdown",
      "metadata": {
        "id": "uyPaqK-9OBB3",
        "colab_type": "text"
      },
      "source": [
        "## データの中身を見てみる"
      ]
    },
    {
      "cell_type": "code",
      "metadata": {
        "id": "f-9LSCZtWnON",
        "colab_type": "code",
        "colab": {}
      },
      "source": [
        "data_iterator = iter(data_loader)\n",
        "images, labels = data_iterator.next()"
      ],
      "execution_count": 0,
      "outputs": []
    },
    {
      "cell_type": "code",
      "metadata": {
        "id": "c1MMQaaS_hB6",
        "colab_type": "code",
        "colab": {}
      },
      "source": [
        "print(len(images))\n",
        "print(len(labels))"
      ],
      "execution_count": 0,
      "outputs": []
    },
    {
      "cell_type": "markdown",
      "metadata": {
        "id": "0b1meGCNOHTX",
        "colab_type": "text"
      },
      "source": [
        "## 1つ目のデータを可視化してみる"
      ]
    },
    {
      "cell_type": "code",
      "metadata": {
        "id": "Mb--62-MU-fe",
        "colab_type": "code",
        "colab": {}
      },
      "source": [
        "# 何番目の画像を表示しますか\n",
        "location=4\n",
        "# numpy行列に変換した上、dataに代入します\n",
        "data = images[location].numpy()\n",
        "print(data.shape)\n",
        "# matplotlibが描画するためにデータチャンネル調整します\n",
        "reshaped_data=data.reshape(28,28)\n",
        "# データから画像を描画します\n",
        "plt.imshow(reshaped_data, cmap='inferno', interpolation='bicubic')\n",
        "plt.show()\n",
        "print('ラベル:', labels[location])"
      ],
      "execution_count": 0,
      "outputs": []
    },
    {
      "cell_type": "markdown",
      "metadata": {
        "id": "mER3dMmaOL4s",
        "colab_type": "text"
      },
      "source": [
        "## 学習データと検証データを用意する"
      ]
    },
    {
      "cell_type": "code",
      "metadata": {
        "id": "uhcMc7_IWnOU",
        "colab_type": "code",
        "colab": {}
      },
      "source": [
        "# 学習データ\n",
        "train_data_with_labels = MNIST(data_folder, train=True, download=True, transform=transforms.ToTensor())\n",
        "train_data_loader = DataLoader(train_data_with_labels,batch_size=BATCH_SIZE,shuffle=True)\n",
        "\n",
        "# 検証データ\n",
        "test_data_with_labels = MNIST(data_folder, train=False, download=True, transform=transforms.ToTensor())\n",
        "test_data_loader = DataLoader(test_data_with_labels,batch_size=BATCH_SIZE,shuffle=True)"
      ],
      "execution_count": 0,
      "outputs": []
    },
    {
      "cell_type": "markdown",
      "metadata": {
        "id": "bl9UnaJbRDp4",
        "colab_type": "text"
      },
      "source": [
        "## ニューラルネットワークの定義"
      ]
    },
    {
      "cell_type": "code",
      "metadata": {
        "id": "2tjPMjJXWnOX",
        "colab_type": "code",
        "colab": {}
      },
      "source": [
        "from torch.autograd import Variable\n",
        "import torch.nn as nn\n",
        "import torch.nn.functional as F\n",
        "\n",
        "class MLP(nn.Module):\n",
        "  def __init__(self):\n",
        "    super().__init__()\n",
        "    # 入力層\n",
        "    self.layer1 = nn.Linear(28 * 28, 100)\n",
        "    # 中間層（隠れ層）\n",
        "    self.layer2 = nn.Linear(100, 50)\n",
        "    # 出力層\n",
        "    self.layer3 = nn.Linear(50,10)\n",
        "        \n",
        "  def forward(self, input_data):\n",
        "    input_data = input_data.view(-1, 28 * 28)\n",
        "    input_data = self.layer1(input_data)\n",
        "    input_data = self.layer2(input_data)\n",
        "    input_data = self.layer3(input_data)\n",
        "    return input_data"
      ],
      "execution_count": 0,
      "outputs": []
    },
    {
      "cell_type": "markdown",
      "metadata": {
        "id": "FRB1_hcPiUvx",
        "colab_type": "text"
      },
      "source": [
        "## モデル"
      ]
    },
    {
      "cell_type": "code",
      "metadata": {
        "id": "4qJy6sJsiYcO",
        "colab_type": "code",
        "colab": {}
      },
      "source": [
        "model = MLP()"
      ],
      "execution_count": 0,
      "outputs": []
    },
    {
      "cell_type": "markdown",
      "metadata": {
        "id": "rzIoYxwTRJXb",
        "colab_type": "text"
      },
      "source": [
        "## コスト関数と最適化手法を定義する\n",
        "\n"
      ]
    },
    {
      "cell_type": "code",
      "metadata": {
        "id": "9UzvWFHLWnOa",
        "colab_type": "code",
        "colab": {}
      },
      "source": [
        "import torch.optim as optimizer\n",
        "\n",
        "# ソフトマックスロスエントロピー\n",
        "lossResult = nn.CrossEntropyLoss()\n",
        "# SGD\n",
        "optimizer = optimizer.SGD(model.parameters(), lr=0.01)"
      ],
      "execution_count": 0,
      "outputs": []
    },
    {
      "cell_type": "markdown",
      "metadata": {
        "id": "1UdbDR-zj6jg",
        "colab_type": "text"
      },
      "source": [
        "## 学習\n"
      ]
    },
    {
      "cell_type": "code",
      "metadata": {
        "id": "wPHZ4fX_WnOe",
        "colab_type": "code",
        "colab": {}
      },
      "source": [
        "# 最大学習回数\n",
        "MAX_EPOCH=4\n",
        "\n",
        "for epoch in range(MAX_EPOCH):\n",
        "  total_loss = 0.0\n",
        "  for i, data in enumerate(train_data_loader):\n",
        "    \n",
        "    # dataから学習対象データと教師ラベルデータを取り出します\n",
        "    train_data, teacher_labels = data\n",
        "    \n",
        "    # 入力をtorch.autograd.Variableに変換します\n",
        "    train_data, teacher_labels = Variable(train_data), Variable(teacher_labels)\n",
        "    \n",
        "    # 計算された勾配情報を削除します\n",
        "    optimizer.zero_grad()\n",
        "    \n",
        "    # モデルに学習データを与えて予測を計算します\n",
        "    outputs = model(train_data)\n",
        "    \n",
        "    # lossとwによる微分計算します\n",
        "    loss = lossResult(outputs, teacher_labels)\n",
        "    loss.backward()\n",
        "    \n",
        "    # 勾配を更新します\n",
        "    optimizer.step()\n",
        "    \n",
        "    # 誤差を累計します\n",
        "    total_loss += loss.data[0]\n",
        "    \n",
        "    # 2000ミニバッチずつ、進捗を表示します \n",
        "    if i % 2000 == 1999:\n",
        "      print('学習進捗：[%d, %d]　学習誤差（loss）: %.3f' % (epoch + 1, i + 1, total_loss / 2000))\n",
        "      total_loss = 0.0\n",
        "        \n",
        "print('学習終了')"
      ],
      "execution_count": 0,
      "outputs": []
    },
    {
      "cell_type": "markdown",
      "metadata": {
        "id": "npn5XGVsWQSZ",
        "colab_type": "text"
      },
      "source": [
        "## 検証"
      ]
    },
    {
      "cell_type": "code",
      "metadata": {
        "id": "Ep_R-2Z_WnOj",
        "colab_type": "code",
        "colab": {}
      },
      "source": [
        "import torch\n",
        "# トータル\n",
        "total = 0\n",
        "# 正解カウンター\n",
        "count_when_correct = 0\n",
        "\n",
        "#\n",
        "for data in test_data_loader:\n",
        "  # 検証データローダーからデータを取り出した上、アンパックします\n",
        "  test_data, teacher_labels = data\n",
        "  # テストデータを変換した上、モデルに渡して、判定してもらいます\n",
        "  results = model(Variable(test_data))\n",
        "  # 予測を取り出します\n",
        "  _, predicted = torch.max(results.data, 1)\n",
        "  #\n",
        "  total += teacher_labels.size(0)\n",
        "  count_when_correct += (predicted == teacher_labels).sum()\n",
        "\n",
        "    \n",
        "print('count_when_correct:%d'%(count_when_correct))\n",
        "print('total:%d'%(total))\n",
        "\n",
        "print('正解率：%d / %d = %f'% (count_when_correct, total, int(count_when_correct)/int(total)))"
      ],
      "execution_count": 0,
      "outputs": []
    },
    {
      "cell_type": "markdown",
      "metadata": {
        "id": "nIP4Fic_Wj1w",
        "colab_type": "text"
      },
      "source": [
        "## 個別データで検証"
      ]
    },
    {
      "cell_type": "code",
      "metadata": {
        "scrolled": true,
        "id": "55Xfqi2sWnOn",
        "colab_type": "code",
        "colab": {}
      },
      "source": [
        "test_iterator = iter(test_data_loader)\n",
        "# ここで回数を増減して、違うテストデータを取り出せます\n",
        "test_data, teacher_labels = test_iterator.next()\n",
        "# テストデータを変換した上、モデルに渡して、判定してもらいます\n",
        "results = model(Variable(test_data))\n",
        "_, predicted_label = torch.max(results.data, 1)\n",
        "\n",
        "location=1\n",
        "plt.imshow(test_data[location].numpy().reshape(28, 28), cmap='inferno', interpolation='bicubic')\n",
        "print('ラベル：', predicted_label[location])"
      ],
      "execution_count": 0,
      "outputs": []
    }
  ]
}