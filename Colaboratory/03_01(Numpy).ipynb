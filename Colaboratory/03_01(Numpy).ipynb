{
 "cells": [
  {
   "cell_type": "markdown",
   "metadata": {
    "colab_type": "text",
    "id": "4HxM5UKH09el"
   },
   "source": [
    "# NumPyの基本操作"
   ]
  },
  {
   "cell_type": "code",
   "execution_count": 6,
   "metadata": {
    "colab": {
     "base_uri": "https://localhost:8080/",
     "height": 34
    },
    "colab_type": "code",
    "id": "WpXeBV8l09en",
    "outputId": "659b5e5d-b5a2-4951-fcea-092e53e7b03c",
    "scrolled": true
   },
   "outputs": [
    {
     "name": "stdout",
     "output_type": "stream",
     "text": [
      "numpy のバージョンは： 1.17.0\n"
     ]
    }
   ],
   "source": [
    "import numpy as np\n",
    "\n",
    "print('numpy のバージョンは：', np.__version__)"
   ]
  },
  {
   "cell_type": "markdown",
   "metadata": {},
   "source": [
    "## 配列の作成"
   ]
  },
  {
   "cell_type": "code",
   "execution_count": 7,
   "metadata": {
    "colab": {
     "base_uri": "https://localhost:8080/",
     "height": 34
    },
    "colab_type": "code",
    "id": "gjN5pNTQ09et",
    "outputId": "c419c0c0-5b09-47cd-9bcb-fbe7b49ab8b6"
   },
   "outputs": [
    {
     "name": "stdout",
     "output_type": "stream",
     "text": [
      "a= [1 2 3]\n"
     ]
    }
   ],
   "source": [
    "a = np.array([1, 2, 3])\n",
    "print('a=', a)"
   ]
  },
  {
   "cell_type": "markdown",
   "metadata": {
    "colab_type": "text",
    "id": "r9Lq99emjrE8"
   },
   "source": [
    "## 掛け算"
   ]
  },
  {
   "cell_type": "code",
   "execution_count": 8,
   "metadata": {
    "colab": {
     "base_uri": "https://localhost:8080/",
     "height": 34
    },
    "colab_type": "code",
    "id": "4K1sHuZr09ev",
    "outputId": "f3dbb9f8-2a83-4d3e-a92d-e4130909221f"
   },
   "outputs": [
    {
     "data": {
      "text/plain": [
       "array([3, 6, 9])"
      ]
     },
     "execution_count": 8,
     "metadata": {},
     "output_type": "execute_result"
    }
   ],
   "source": [
    "a * 3"
   ]
  },
  {
   "cell_type": "markdown",
   "metadata": {
    "colab_type": "text",
    "id": "1u-fcMBrkKfg"
   },
   "source": [
    "## 足し算"
   ]
  },
  {
   "cell_type": "code",
   "execution_count": 9,
   "metadata": {
    "colab": {
     "base_uri": "https://localhost:8080/",
     "height": 34
    },
    "colab_type": "code",
    "id": "Kt1Jh_LD09ey",
    "outputId": "721618f9-642c-4054-e687-f27199c22c7d"
   },
   "outputs": [
    {
     "data": {
      "text/plain": [
       "array([3, 4, 5])"
      ]
     },
     "execution_count": 9,
     "metadata": {},
     "output_type": "execute_result"
    }
   ],
   "source": [
    "a + 2"
   ]
  },
  {
   "cell_type": "markdown",
   "metadata": {
    "colab_type": "text",
    "id": "2fsmL0cM09e1"
   },
   "source": [
    "## 配列の要素同士の四則演算 "
   ]
  },
  {
   "cell_type": "code",
   "execution_count": 10,
   "metadata": {
    "colab": {
     "base_uri": "https://localhost:8080/",
     "height": 34
    },
    "colab_type": "code",
    "id": "CL9hidmC09e2",
    "outputId": "8f2abb76-ff42-4b37-8cec-1b641f3e66a4"
   },
   "outputs": [
    {
     "name": "stdout",
     "output_type": "stream",
     "text": [
      "b= [1 1 4]\n"
     ]
    }
   ],
   "source": [
    "b = np.array([1, 1, 4])\n",
    "print('b=', b)"
   ]
  },
  {
   "cell_type": "code",
   "execution_count": 11,
   "metadata": {
    "colab": {
     "base_uri": "https://localhost:8080/",
     "height": 34
    },
    "colab_type": "code",
    "id": "fcX02IdK09e4",
    "outputId": "78635ec9-a394-4050-f322-3b8c374e0c04"
   },
   "outputs": [
    {
     "data": {
      "text/plain": [
       "array([2, 3, 7])"
      ]
     },
     "execution_count": 11,
     "metadata": {},
     "output_type": "execute_result"
    }
   ],
   "source": [
    "a + b"
   ]
  },
  {
   "cell_type": "code",
   "execution_count": 12,
   "metadata": {
    "colab": {
     "base_uri": "https://localhost:8080/",
     "height": 34
    },
    "colab_type": "code",
    "id": "tm0SmofS09e7",
    "outputId": "bc4fd1b9-dfb2-4249-ceb5-eb3b924d7381"
   },
   "outputs": [
    {
     "data": {
      "text/plain": [
       "array([ 0,  1, -1])"
      ]
     },
     "execution_count": 12,
     "metadata": {},
     "output_type": "execute_result"
    }
   ],
   "source": [
    "a - b"
   ]
  },
  {
   "cell_type": "code",
   "execution_count": 13,
   "metadata": {
    "colab": {
     "base_uri": "https://localhost:8080/",
     "height": 34
    },
    "colab_type": "code",
    "id": "nPVB3Tro09e-",
    "outputId": "50384d36-8935-413f-afbe-d6f6e304aee4"
   },
   "outputs": [
    {
     "data": {
      "text/plain": [
       "array([1.  , 2.  , 0.75])"
      ]
     },
     "execution_count": 13,
     "metadata": {},
     "output_type": "execute_result"
    }
   ],
   "source": [
    "a / b"
   ]
  },
  {
   "cell_type": "code",
   "execution_count": 14,
   "metadata": {
    "colab": {
     "base_uri": "https://localhost:8080/",
     "height": 34
    },
    "colab_type": "code",
    "id": "LpbdPGT_09fC",
    "outputId": "d285cd3b-b7c0-438c-bf76-b13649e419a0"
   },
   "outputs": [
    {
     "data": {
      "text/plain": [
       "array([ 1,  2, 12])"
      ]
     },
     "execution_count": 14,
     "metadata": {},
     "output_type": "execute_result"
    }
   ],
   "source": [
    "a * b"
   ]
  },
  {
   "cell_type": "markdown",
   "metadata": {
    "colab_type": "text",
    "id": "amLOXRUA09fF"
   },
   "source": [
    "## ベクトルの内積"
   ]
  },
  {
   "cell_type": "code",
   "execution_count": 15,
   "metadata": {
    "colab": {
     "base_uri": "https://localhost:8080/",
     "height": 34
    },
    "colab_type": "code",
    "id": "Qw3sBOuC09fF",
    "outputId": "2d3b4b2d-bdd2-4343-b760-a51001d63ae0"
   },
   "outputs": [
    {
     "data": {
      "text/plain": [
       "15"
      ]
     },
     "execution_count": 15,
     "metadata": {},
     "output_type": "execute_result"
    }
   ],
   "source": [
    "np.dot(a, b)"
   ]
  },
  {
   "cell_type": "markdown",
   "metadata": {
    "colab_type": "text",
    "id": "0scIIAtY09fI"
   },
   "source": [
    "## 二次元ベクトルの内積"
   ]
  },
  {
   "cell_type": "code",
   "execution_count": 16,
   "metadata": {
    "colab": {
     "base_uri": "https://localhost:8080/",
     "height": 85
    },
    "colab_type": "code",
    "id": "ReIeCRd609fJ",
    "outputId": "56a009ec-6ec8-4dfe-d605-625a289706c2"
   },
   "outputs": [
    {
     "name": "stdout",
     "output_type": "stream",
     "text": [
      "c= [[1 2]\n",
      " [3 4]]\n",
      "d= [[3 4]\n",
      " [1 2]]\n"
     ]
    }
   ],
   "source": [
    "c = np.array([[1, 2], [3, 4]])\n",
    "print('c=', c)\n",
    "d = np.array([[3, 4], [1, 2]])\n",
    "print('d=', d)"
   ]
  },
  {
   "cell_type": "code",
   "execution_count": 17,
   "metadata": {
    "colab": {
     "base_uri": "https://localhost:8080/",
     "height": 51
    },
    "colab_type": "code",
    "id": "kgd5Vb7209fN",
    "outputId": "4d50316a-3c50-4ec5-bbe5-967f7accb30c"
   },
   "outputs": [
    {
     "data": {
      "text/plain": [
       "array([[ 5,  8],\n",
       "       [13, 20]])"
      ]
     },
     "execution_count": 17,
     "metadata": {},
     "output_type": "execute_result"
    }
   ],
   "source": [
    "np.dot(c, d)"
   ]
  },
  {
   "cell_type": "code",
   "execution_count": 18,
   "metadata": {
    "colab": {
     "base_uri": "https://localhost:8080/",
     "height": 119
    },
    "colab_type": "code",
    "id": "rPzFFuB_09fQ",
    "outputId": "376d32ff-7fd7-4be9-d3df-289b24ec4c1b"
   },
   "outputs": [
    {
     "name": "stdout",
     "output_type": "stream",
     "text": [
      "e= [[1.  2.  3. ]\n",
      " [0.1 0.2 0.3]\n",
      " [7.  8.  9. ]]\n",
      "f= [[0.1 0.2 0.3]\n",
      " [1.  2.  3. ]\n",
      " [7.  8.  9. ]]\n"
     ]
    }
   ],
   "source": [
    "e = np.array([[1, 2, 3], [0.1, 0.2, 0.3], [7, 8, 9]])\n",
    "print('e=', e)\n",
    "f = np.array([[0.1, 0.2, 0.3], [1, 2, 3], [7, 8, 9]])\n",
    "print('f=', f)"
   ]
  },
  {
   "cell_type": "code",
   "execution_count": 19,
   "metadata": {
    "colab": {
     "base_uri": "https://localhost:8080/",
     "height": 68
    },
    "colab_type": "code",
    "id": "SQKKs7-d09fW",
    "outputId": "90f772bc-ac39-49b5-f5e7-58c9c4af9eac"
   },
   "outputs": [
    {
     "data": {
      "text/plain": [
       "array([[  2.22,   2.64,   3.06],\n",
       "       [ 22.2 ,  26.4 ,  30.6 ],\n",
       "       [ 70.8 ,  87.6 , 104.4 ]])"
      ]
     },
     "execution_count": 19,
     "metadata": {},
     "output_type": "execute_result"
    }
   ],
   "source": [
    "np.dot(f, e)"
   ]
  },
  {
   "cell_type": "markdown",
   "metadata": {
    "colab_type": "text",
    "id": "eR9BUhKMlgIv"
   },
   "source": [
    "## ndarrayの形状変換"
   ]
  },
  {
   "cell_type": "code",
   "execution_count": 20,
   "metadata": {
    "colab": {
     "base_uri": "https://localhost:8080/",
     "height": 68
    },
    "colab_type": "code",
    "id": "VekKWLDF09fa",
    "outputId": "21f0155f-343d-43d0-ee89-7508a4456449"
   },
   "outputs": [
    {
     "name": "stdout",
     "output_type": "stream",
     "text": [
      "g= [[0 1 2]\n",
      " [3 4 5]\n",
      " [6 7 8]]\n"
     ]
    }
   ],
   "source": [
    "g = np.arange(9).reshape((3, 3))\n",
    "print('g=', g)"
   ]
  },
  {
   "cell_type": "code",
   "execution_count": 21,
   "metadata": {
    "colab": {
     "base_uri": "https://localhost:8080/",
     "height": 170
    },
    "colab_type": "code",
    "id": "qlToAbxvk-V7",
    "outputId": "131b5712-daa8-4bc8-e3c1-5a8f5e8a76eb"
   },
   "outputs": [
    {
     "name": "stdout",
     "output_type": "stream",
     "text": [
      "[[0]\n",
      " [1]\n",
      " [2]\n",
      " [3]\n",
      " [4]\n",
      " [5]\n",
      " [6]\n",
      " [7]\n",
      " [8]]\n"
     ]
    }
   ],
   "source": [
    "g = g.reshape((9, 1))\n",
    "print(g)"
   ]
  },
  {
   "cell_type": "markdown",
   "metadata": {
    "colab_type": "text",
    "id": "NpXs8yxFnpSl"
   },
   "source": [
    "## 要素がゼロの配列生成"
   ]
  },
  {
   "cell_type": "code",
   "execution_count": 22,
   "metadata": {
    "colab": {
     "base_uri": "https://localhost:8080/",
     "height": 68
    },
    "colab_type": "code",
    "id": "VU6GhegW09gE",
    "outputId": "1271236d-2a11-4487-a432-2a852c3c9192"
   },
   "outputs": [
    {
     "name": "stdout",
     "output_type": "stream",
     "text": [
      "zeros= [[0. 0. 0. 0.]\n",
      " [0. 0. 0. 0.]\n",
      " [0. 0. 0. 0.]]\n"
     ]
    }
   ],
   "source": [
    "zeros = np.zeros((3, 4))\n",
    "print('zeros=', zeros)"
   ]
  },
  {
   "cell_type": "markdown",
   "metadata": {
    "colab_type": "text",
    "id": "UEpjLTBqllKW"
   },
   "source": [
    " ## 要素が1の配列を生成する"
   ]
  },
  {
   "cell_type": "code",
   "execution_count": 23,
   "metadata": {
    "colab": {
     "base_uri": "https://localhost:8080/",
     "height": 68
    },
    "colab_type": "code",
    "id": "ScQu3QQQ09fd",
    "outputId": "6e64340d-1ccd-46e6-c67d-ccd23f812614"
   },
   "outputs": [
    {
     "name": "stdout",
     "output_type": "stream",
     "text": [
      "h= [[1. 1. 1.]\n",
      " [1. 1. 1.]\n",
      " [1. 1. 1.]]\n"
     ]
    }
   ],
   "source": [
    "h = np.ones((3, 3))\n",
    "print('h=', h)"
   ]
  },
  {
   "cell_type": "markdown",
   "metadata": {
    "colab_type": "text",
    "id": "H4dQ-A-UnwtE"
   },
   "source": [
    "## 未初期化の配列を生成する"
   ]
  },
  {
   "cell_type": "code",
   "execution_count": 24,
   "metadata": {
    "colab": {
     "base_uri": "https://localhost:8080/",
     "height": 51
    },
    "colab_type": "code",
    "id": "AxTLpNaO09gN",
    "outputId": "0f0cf23d-21f9-4aab-d1cf-22099bd96a42"
   },
   "outputs": [
    {
     "name": "stdout",
     "output_type": "stream",
     "text": [
      "p= [[2.3727238e-316 0.0000000e+000 0.0000000e+000]\n",
      " [0.0000000e+000 0.0000000e+000 0.0000000e+000]]\n"
     ]
    }
   ],
   "source": [
    "p = np.empty((2, 3))\n",
    "print('p=', p)"
   ]
  },
  {
   "cell_type": "markdown",
   "metadata": {
    "colab_type": "text",
    "id": "eg7vNMyFmNrE"
   },
   "source": [
    "## matrixで二次元配列の作成"
   ]
  },
  {
   "cell_type": "code",
   "execution_count": 25,
   "metadata": {
    "colab": {
     "base_uri": "https://localhost:8080/",
     "height": 68
    },
    "colab_type": "code",
    "id": "T1s2pX8i09fr",
    "outputId": "641c642d-9f5a-4351-8ded-9d2fbb49dae2"
   },
   "outputs": [
    {
     "name": "stdout",
     "output_type": "stream",
     "text": [
      "k= [[0 1 2]\n",
      " [3 4 5]\n",
      " [6 7 8]]\n"
     ]
    }
   ],
   "source": [
    "k = np.matrix([[0, 1, 2], [3, 4, 5], [6, 7, 8]])\n",
    "print('k=', k)"
   ]
  },
  {
   "cell_type": "code",
   "execution_count": 26,
   "metadata": {
    "colab": {
     "base_uri": "https://localhost:8080/",
     "height": 68
    },
    "colab_type": "code",
    "id": "VhVdkCI809fu",
    "outputId": "2646d731-f04d-47dd-a999-e3062ff9d71b"
   },
   "outputs": [
    {
     "name": "stdout",
     "output_type": "stream",
     "text": [
      "l= [[1 1 1]\n",
      " [1 1 1]\n",
      " [1 1 1]]\n",
      "m= [[ 3  3  3]\n",
      " [12 12 12]\n",
      " [21 21 21]]\n"
     ]
    }
   ],
   "source": [
    "l = np.matrix([[1, 1, 1], [1, 1, 1], [1, 1, 1]])\n",
    "print('l=', l)\n",
    "\n",
    "m = np.dot(k, l)\n",
    "print('m=', m)"
   ]
  },
  {
   "cell_type": "markdown",
   "metadata": {
    "colab_type": "text",
    "id": "gpL5IB3q09fz"
   },
   "source": [
    "## shapeで次元ごとの要素数を取得する"
   ]
  },
  {
   "cell_type": "code",
   "execution_count": 27,
   "metadata": {
    "colab": {
     "base_uri": "https://localhost:8080/",
     "height": 34
    },
    "colab_type": "code",
    "id": "N6zFpXwQ09f0",
    "outputId": "8cabea16-9bab-4326-9dda-10326d0ebcc1"
   },
   "outputs": [
    {
     "name": "stdout",
     "output_type": "stream",
     "text": [
      "m.shape (3, 3)\n"
     ]
    }
   ],
   "source": [
    "m.shape\n",
    "print('m.shape', m.shape)"
   ]
  },
  {
   "cell_type": "markdown",
   "metadata": {
    "colab_type": "text",
    "id": "o0qA0nynm6fC"
   },
   "source": [
    "## ndimで次元構造を取得する"
   ]
  },
  {
   "cell_type": "code",
   "execution_count": 28,
   "metadata": {
    "colab": {
     "base_uri": "https://localhost:8080/",
     "height": 34
    },
    "colab_type": "code",
    "id": "H696kGLc09f3",
    "outputId": "95968a77-5e22-4c08-cae7-464ce3cb65ed"
   },
   "outputs": [
    {
     "name": "stdout",
     "output_type": "stream",
     "text": [
      "m.ndim 2\n"
     ]
    }
   ],
   "source": [
    "m.ndim\n",
    "print('m.ndim',m.ndim)"
   ]
  },
  {
   "cell_type": "markdown",
   "metadata": {
    "colab_type": "text",
    "id": "QsYp9WlWnh6b"
   },
   "source": [
    "## 配列要素のデータ型dtype"
   ]
  },
  {
   "cell_type": "code",
   "execution_count": 29,
   "metadata": {
    "colab": {
     "base_uri": "https://localhost:8080/",
     "height": 34
    },
    "colab_type": "code",
    "id": "tyRqekx509f6",
    "outputId": "03c2cc33-dabf-4f3c-d0e4-402662290ff0"
   },
   "outputs": [
    {
     "name": "stdout",
     "output_type": "stream",
     "text": [
      "m.dtype.name int64\n"
     ]
    }
   ],
   "source": [
    "m.dtype.name\n",
    "print('m.dtype.name', m.dtype.name)"
   ]
  },
  {
   "cell_type": "markdown",
   "metadata": {
    "colab_type": "text",
    "id": "tOSrtPQzorPx"
   },
   "source": [
    "## １要素のバイト数itemsize"
   ]
  },
  {
   "cell_type": "code",
   "execution_count": 30,
   "metadata": {
    "colab": {
     "base_uri": "https://localhost:8080/",
     "height": 34
    },
    "colab_type": "code",
    "id": "5NYACcQh09f7",
    "outputId": "1aba9d47-5b5c-4114-e929-f76dcecbfd96"
   },
   "outputs": [
    {
     "name": "stdout",
     "output_type": "stream",
     "text": [
      "m 配列内、各要素のbyte数： 8\n"
     ]
    }
   ],
   "source": [
    "m.itemsize\n",
    "print('m 配列内、各要素のbyte数：', m.itemsize)"
   ]
  },
  {
   "cell_type": "markdown",
   "metadata": {
    "colab_type": "text",
    "id": "OKHz5LSqowCR"
   },
   "source": [
    "## 配列の要素数size"
   ]
  },
  {
   "cell_type": "code",
   "execution_count": 31,
   "metadata": {
    "colab": {
     "base_uri": "https://localhost:8080/",
     "height": 34
    },
    "colab_type": "code",
    "id": "u6UuB1Wj09f-",
    "outputId": "e263a886-81cc-4686-9029-a2b185dabba0"
   },
   "outputs": [
    {
     "name": "stdout",
     "output_type": "stream",
     "text": [
      "m 総要素数： 9\n"
     ]
    }
   ],
   "source": [
    "m.size\n",
    "print('m 総要素数：', m.size)"
   ]
  },
  {
   "cell_type": "markdown",
   "metadata": {
    "colab_type": "text",
    "id": "E6rMHDpx09gR"
   },
   "source": [
    "## arangeで配列を生成する"
   ]
  },
  {
   "cell_type": "code",
   "execution_count": 32,
   "metadata": {
    "colab": {
     "base_uri": "https://localhost:8080/",
     "height": 136
    },
    "colab_type": "code",
    "id": "Pzt6D95b09gS",
    "outputId": "8b56af05-3775-4109-db01-edb74009d1e5",
    "scrolled": true
   },
   "outputs": [
    {
     "name": "stdout",
     "output_type": "stream",
     "text": [
      "q= [[     0      1      2 ...    997    998    999]\n",
      " [  1000   1001   1002 ...   1997   1998   1999]\n",
      " [  2000   2001   2002 ...   2997   2998   2999]\n",
      " ...\n",
      " [997000 997001 997002 ... 997997 997998 997999]\n",
      " [998000 998001 998002 ... 998997 998998 998999]\n",
      " [999000 999001 999002 ... 999997 999998 999999]]\n"
     ]
    }
   ],
   "source": [
    "q = np.arange(1000000).reshape(1000, 1000)\n",
    "print('q=', q)"
   ]
  },
  {
   "cell_type": "code",
   "execution_count": 33,
   "metadata": {
    "colab": {
     "base_uri": "https://localhost:8080/",
     "height": 34
    },
    "colab_type": "code",
    "id": "cq2ZdC1Q09ge",
    "outputId": "130bcd9f-be0a-49a4-ab9c-1e923926cfa1"
   },
   "outputs": [
    {
     "name": "stdout",
     "output_type": "stream",
     "text": [
      "[0 1 2 3 4 5 6 7 8 9]\n"
     ]
    }
   ],
   "source": [
    "x = np.arange(10)\n",
    "print(x)"
   ]
  },
  {
   "cell_type": "code",
   "execution_count": 34,
   "metadata": {
    "colab": {
     "base_uri": "https://localhost:8080/",
     "height": 34
    },
    "colab_type": "code",
    "id": "-_eBoj_r09gh",
    "outputId": "aeb62d51-4486-462e-c422-15b87518cabb"
   },
   "outputs": [
    {
     "name": "stdout",
     "output_type": "stream",
     "text": [
      "[100 200 300 400 500]\n"
     ]
    }
   ],
   "source": [
    "x = np.arange(start=100, stop=600, step=100)\n",
    "print(x)"
   ]
  },
  {
   "cell_type": "markdown",
   "metadata": {
    "colab_type": "text",
    "id": "3L176ZZerb12"
   },
   "source": [
    "## 配列要素データ型の変換astype"
   ]
  },
  {
   "cell_type": "code",
   "execution_count": 35,
   "metadata": {
    "colab": {
     "base_uri": "https://localhost:8080/",
     "height": 51
    },
    "colab_type": "code",
    "id": "Jr6aAOn-rd8z",
    "outputId": "9cd6fe08-324d-4179-d8c8-3f9be0999bbb"
   },
   "outputs": [
    {
     "name": "stdout",
     "output_type": "stream",
     "text": [
      "x_float.dtype.name float32\n",
      "[100. 200. 300. 400. 500.]\n"
     ]
    }
   ],
   "source": [
    "x_float = x.astype('float32')\n",
    "print('x_float.dtype.name', x_float.dtype.name)\n",
    "print(x_float) "
   ]
  }
 ],
 "metadata": {
  "accelerator": "GPU",
  "colab": {
   "collapsed_sections": [],
   "name": "03-01(Numpy).ipynb",
   "provenance": [],
   "version": "0.3.2"
  },
  "kernelspec": {
   "display_name": "Python 3",
   "language": "python",
   "name": "python3"
  },
  "language_info": {
   "codemirror_mode": {
    "name": "ipython",
    "version": 3
   },
   "file_extension": ".py",
   "mimetype": "text/x-python",
   "name": "python",
   "nbconvert_exporter": "python",
   "pygments_lexer": "ipython3",
   "version": "3.6.8"
  }
 },
 "nbformat": 4,
 "nbformat_minor": 1
}
