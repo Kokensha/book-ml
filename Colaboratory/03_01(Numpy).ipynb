{
  "nbformat": 4,
  "nbformat_minor": 0,
  "metadata": {
    "colab": {
      "name": "03-01(Numpy).ipynb",
      "version": "0.3.2",
      "provenance": [],
      "collapsed_sections": []
    },
    "kernelspec": {
      "name": "python3",
      "display_name": "Python 3"
    },
    "accelerator": "GPU"
  },
  "cells": [
    {
      "cell_type": "markdown",
      "metadata": {
        "id": "4HxM5UKH09el",
        "colab_type": "text"
      },
      "source": [
        "# numpyの基本操作"
      ]
    },
    {
      "cell_type": "code",
      "metadata": {
        "id": "WpXeBV8l09en",
        "colab_type": "code",
        "outputId": "659b5e5d-b5a2-4951-fcea-092e53e7b03c",
        "colab": {
          "base_uri": "https://localhost:8080/",
          "height": 34
        }
      },
      "source": [
        "import numpy as np\n",
        "print('numpy のバージョンは：',np.__version__)"
      ],
      "execution_count": 0,
      "outputs": [
        {
          "output_type": "stream",
          "text": [
            "numpy のバージョンは： 1.14.6\n"
          ],
          "name": "stdout"
        }
      ]
    },
    {
      "cell_type": "code",
      "metadata": {
        "id": "gjN5pNTQ09et",
        "colab_type": "code",
        "outputId": "c419c0c0-5b09-47cd-9bcb-fbe7b49ab8b6",
        "colab": {
          "base_uri": "https://localhost:8080/",
          "height": 34
        }
      },
      "source": [
        "a = np.array([1, 2, 3])\n",
        "print('a=',a)"
      ],
      "execution_count": 0,
      "outputs": [
        {
          "output_type": "stream",
          "text": [
            "a= [1 2 3]\n"
          ],
          "name": "stdout"
        }
      ]
    },
    {
      "cell_type": "markdown",
      "metadata": {
        "id": "r9Lq99emjrE8",
        "colab_type": "text"
      },
      "source": [
        "掛け算"
      ]
    },
    {
      "cell_type": "code",
      "metadata": {
        "id": "4K1sHuZr09ev",
        "colab_type": "code",
        "outputId": "f3dbb9f8-2a83-4d3e-a92d-e4130909221f",
        "colab": {
          "base_uri": "https://localhost:8080/",
          "height": 34
        }
      },
      "source": [
        "a * 3"
      ],
      "execution_count": 0,
      "outputs": [
        {
          "output_type": "execute_result",
          "data": {
            "text/plain": [
              "array([3, 6, 9])"
            ]
          },
          "metadata": {
            "tags": []
          },
          "execution_count": 3
        }
      ]
    },
    {
      "cell_type": "markdown",
      "metadata": {
        "id": "1u-fcMBrkKfg",
        "colab_type": "text"
      },
      "source": [
        "足し算"
      ]
    },
    {
      "cell_type": "code",
      "metadata": {
        "id": "Kt1Jh_LD09ey",
        "colab_type": "code",
        "outputId": "721618f9-642c-4054-e687-f27199c22c7d",
        "colab": {
          "base_uri": "https://localhost:8080/",
          "height": 34
        }
      },
      "source": [
        "a+2"
      ],
      "execution_count": 0,
      "outputs": [
        {
          "output_type": "execute_result",
          "data": {
            "text/plain": [
              "array([3, 4, 5])"
            ]
          },
          "metadata": {
            "tags": []
          },
          "execution_count": 4
        }
      ]
    },
    {
      "cell_type": "markdown",
      "metadata": {
        "id": "2fsmL0cM09e1",
        "colab_type": "text"
      },
      "source": [
        "# 配列の要素毎の四則演算 "
      ]
    },
    {
      "cell_type": "code",
      "metadata": {
        "id": "CL9hidmC09e2",
        "colab_type": "code",
        "outputId": "8f2abb76-ff42-4b37-8cec-1b641f3e66a4",
        "colab": {
          "base_uri": "https://localhost:8080/",
          "height": 34
        }
      },
      "source": [
        "b = np.array([1, 1, 4])\n",
        "print('b=',b)"
      ],
      "execution_count": 0,
      "outputs": [
        {
          "output_type": "stream",
          "text": [
            "b= [1 1 4]\n"
          ],
          "name": "stdout"
        }
      ]
    },
    {
      "cell_type": "code",
      "metadata": {
        "id": "fcX02IdK09e4",
        "colab_type": "code",
        "outputId": "78635ec9-a394-4050-f322-3b8c374e0c04",
        "colab": {
          "base_uri": "https://localhost:8080/",
          "height": 34
        }
      },
      "source": [
        "a+b"
      ],
      "execution_count": 0,
      "outputs": [
        {
          "output_type": "execute_result",
          "data": {
            "text/plain": [
              "array([2, 3, 7])"
            ]
          },
          "metadata": {
            "tags": []
          },
          "execution_count": 6
        }
      ]
    },
    {
      "cell_type": "code",
      "metadata": {
        "id": "tm0SmofS09e7",
        "colab_type": "code",
        "outputId": "bc4fd1b9-dfb2-4249-ceb5-eb3b924d7381",
        "colab": {
          "base_uri": "https://localhost:8080/",
          "height": 34
        }
      },
      "source": [
        "a-b"
      ],
      "execution_count": 0,
      "outputs": [
        {
          "output_type": "execute_result",
          "data": {
            "text/plain": [
              "array([ 0,  1, -1])"
            ]
          },
          "metadata": {
            "tags": []
          },
          "execution_count": 7
        }
      ]
    },
    {
      "cell_type": "code",
      "metadata": {
        "id": "nPVB3Tro09e-",
        "colab_type": "code",
        "outputId": "50384d36-8935-413f-afbe-d6f6e304aee4",
        "colab": {
          "base_uri": "https://localhost:8080/",
          "height": 34
        }
      },
      "source": [
        "a/b"
      ],
      "execution_count": 0,
      "outputs": [
        {
          "output_type": "execute_result",
          "data": {
            "text/plain": [
              "array([1.  , 2.  , 0.75])"
            ]
          },
          "metadata": {
            "tags": []
          },
          "execution_count": 8
        }
      ]
    },
    {
      "cell_type": "code",
      "metadata": {
        "id": "LpbdPGT_09fC",
        "colab_type": "code",
        "outputId": "d285cd3b-b7c0-438c-bf76-b13649e419a0",
        "colab": {
          "base_uri": "https://localhost:8080/",
          "height": 34
        }
      },
      "source": [
        "a*b"
      ],
      "execution_count": 0,
      "outputs": [
        {
          "output_type": "execute_result",
          "data": {
            "text/plain": [
              "array([ 1,  2, 12])"
            ]
          },
          "metadata": {
            "tags": []
          },
          "execution_count": 9
        }
      ]
    },
    {
      "cell_type": "markdown",
      "metadata": {
        "id": "amLOXRUA09fF",
        "colab_type": "text"
      },
      "source": [
        "# ベクトルの内積"
      ]
    },
    {
      "cell_type": "code",
      "metadata": {
        "id": "Qw3sBOuC09fF",
        "colab_type": "code",
        "outputId": "2d3b4b2d-bdd2-4343-b760-a51001d63ae0",
        "colab": {
          "base_uri": "https://localhost:8080/",
          "height": 34
        }
      },
      "source": [
        "np.dot(a,b)"
      ],
      "execution_count": 0,
      "outputs": [
        {
          "output_type": "execute_result",
          "data": {
            "text/plain": [
              "15"
            ]
          },
          "metadata": {
            "tags": []
          },
          "execution_count": 10
        }
      ]
    },
    {
      "cell_type": "markdown",
      "metadata": {
        "id": "0scIIAtY09fI",
        "colab_type": "text"
      },
      "source": [
        "# 二次元配列の内積"
      ]
    },
    {
      "cell_type": "code",
      "metadata": {
        "id": "ReIeCRd609fJ",
        "colab_type": "code",
        "outputId": "56a009ec-6ec8-4dfe-d605-625a289706c2",
        "colab": {
          "base_uri": "https://localhost:8080/",
          "height": 85
        }
      },
      "source": [
        "c=np.array([[1,2], [3,4]])\n",
        "print('c=',c)\n",
        "d=np.array([[3,4], [1,2]])\n",
        "print('d=',d)"
      ],
      "execution_count": 0,
      "outputs": [
        {
          "output_type": "stream",
          "text": [
            "c= [[1 2]\n",
            " [3 4]]\n",
            "d= [[3 4]\n",
            " [1 2]]\n"
          ],
          "name": "stdout"
        }
      ]
    },
    {
      "cell_type": "code",
      "metadata": {
        "id": "kgd5Vb7209fN",
        "colab_type": "code",
        "outputId": "4d50316a-3c50-4ec5-bbe5-967f7accb30c",
        "colab": {
          "base_uri": "https://localhost:8080/",
          "height": 51
        }
      },
      "source": [
        "np.dot(c,d)"
      ],
      "execution_count": 0,
      "outputs": [
        {
          "output_type": "execute_result",
          "data": {
            "text/plain": [
              "array([[ 5,  8],\n",
              "       [13, 20]])"
            ]
          },
          "metadata": {
            "tags": []
          },
          "execution_count": 12
        }
      ]
    },
    {
      "cell_type": "code",
      "metadata": {
        "id": "rPzFFuB_09fQ",
        "colab_type": "code",
        "outputId": "376d32ff-7fd7-4be9-d3df-289b24ec4c1b",
        "colab": {
          "base_uri": "https://localhost:8080/",
          "height": 119
        }
      },
      "source": [
        "e=np.array([[1,2,3],[0.1,0.2,0.3],[7,8,9]])\n",
        "print('e=',e)\n",
        "f=np.array([[0.1,0.2,0.3],[1,2,3],[7,8,9]])\n",
        "print('f=',f)"
      ],
      "execution_count": 0,
      "outputs": [
        {
          "output_type": "stream",
          "text": [
            "e= [[1.  2.  3. ]\n",
            " [0.1 0.2 0.3]\n",
            " [7.  8.  9. ]]\n",
            "f= [[0.1 0.2 0.3]\n",
            " [1.  2.  3. ]\n",
            " [7.  8.  9. ]]\n"
          ],
          "name": "stdout"
        }
      ]
    },
    {
      "cell_type": "code",
      "metadata": {
        "id": "SQKKs7-d09fW",
        "colab_type": "code",
        "outputId": "90f772bc-ac39-49b5-f5e7-58c9c4af9eac",
        "colab": {
          "base_uri": "https://localhost:8080/",
          "height": 68
        }
      },
      "source": [
        "np.dot(f,e)"
      ],
      "execution_count": 0,
      "outputs": [
        {
          "output_type": "execute_result",
          "data": {
            "text/plain": [
              "array([[  2.22,   2.64,   3.06],\n",
              "       [ 22.2 ,  26.4 ,  30.6 ],\n",
              "       [ 70.8 ,  87.6 , 104.4 ]])"
            ]
          },
          "metadata": {
            "tags": []
          },
          "execution_count": 34
        }
      ]
    },
    {
      "cell_type": "markdown",
      "metadata": {
        "id": "eR9BUhKMlgIv",
        "colab_type": "text"
      },
      "source": [
        "# ndarrayの形状変換"
      ]
    },
    {
      "cell_type": "code",
      "metadata": {
        "id": "VekKWLDF09fa",
        "colab_type": "code",
        "outputId": "21f0155f-343d-43d0-ee89-7508a4456449",
        "colab": {
          "base_uri": "https://localhost:8080/",
          "height": 68
        }
      },
      "source": [
        "g = np.arange(9).reshape((3,3))\n",
        "print('g=',g)"
      ],
      "execution_count": 0,
      "outputs": [
        {
          "output_type": "stream",
          "text": [
            "g= [[0 1 2]\n",
            " [3 4 5]\n",
            " [6 7 8]]\n"
          ],
          "name": "stdout"
        }
      ]
    },
    {
      "cell_type": "code",
      "metadata": {
        "id": "qlToAbxvk-V7",
        "colab_type": "code",
        "outputId": "131b5712-daa8-4bc8-e3c1-5a8f5e8a76eb",
        "colab": {
          "base_uri": "https://localhost:8080/",
          "height": 170
        }
      },
      "source": [
        "g= g.reshape((9,1))\n",
        "print(g)"
      ],
      "execution_count": 0,
      "outputs": [
        {
          "output_type": "stream",
          "text": [
            "[[0]\n",
            " [1]\n",
            " [2]\n",
            " [3]\n",
            " [4]\n",
            " [5]\n",
            " [6]\n",
            " [7]\n",
            " [8]]\n"
          ],
          "name": "stdout"
        }
      ]
    },
    {
      "cell_type": "markdown",
      "metadata": {
        "id": "NpXs8yxFnpSl",
        "colab_type": "text"
      },
      "source": [
        "#要素がゼロの配列生成"
      ]
    },
    {
      "cell_type": "code",
      "metadata": {
        "id": "VU6GhegW09gE",
        "colab_type": "code",
        "outputId": "1271236d-2a11-4487-a432-2a852c3c9192",
        "colab": {
          "base_uri": "https://localhost:8080/",
          "height": 68
        }
      },
      "source": [
        "zeros=np.zeros((3,4))\n",
        "print('zeros=',zeros)"
      ],
      "execution_count": 0,
      "outputs": [
        {
          "output_type": "stream",
          "text": [
            "zeros= [[0. 0. 0. 0.]\n",
            " [0. 0. 0. 0.]\n",
            " [0. 0. 0. 0.]]\n"
          ],
          "name": "stdout"
        }
      ]
    },
    {
      "cell_type": "markdown",
      "metadata": {
        "id": "UEpjLTBqllKW",
        "colab_type": "text"
      },
      "source": [
        " # 要素が1の配列を生成する"
      ]
    },
    {
      "cell_type": "code",
      "metadata": {
        "id": "ScQu3QQQ09fd",
        "colab_type": "code",
        "outputId": "6e64340d-1ccd-46e6-c67d-ccd23f812614",
        "colab": {
          "base_uri": "https://localhost:8080/",
          "height": 68
        }
      },
      "source": [
        "h = np.ones((3,3))\n",
        "print('h=',h)"
      ],
      "execution_count": 0,
      "outputs": [
        {
          "output_type": "stream",
          "text": [
            "h= [[1. 1. 1.]\n",
            " [1. 1. 1.]\n",
            " [1. 1. 1.]]\n"
          ],
          "name": "stdout"
        }
      ]
    },
    {
      "cell_type": "markdown",
      "metadata": {
        "id": "H4dQ-A-UnwtE",
        "colab_type": "text"
      },
      "source": [
        "# 未初期化の配列を生成する"
      ]
    },
    {
      "cell_type": "code",
      "metadata": {
        "id": "AxTLpNaO09gN",
        "colab_type": "code",
        "outputId": "0f0cf23d-21f9-4aab-d1cf-22099bd96a42",
        "colab": {
          "base_uri": "https://localhost:8080/",
          "height": 51
        }
      },
      "source": [
        "p=np.empty((2,3))\n",
        "print('p=',p)"
      ],
      "execution_count": 0,
      "outputs": [
        {
          "output_type": "stream",
          "text": [
            "p= [[2.53550537e-316 0.00000000e+000 0.00000000e+000]\n",
            " [0.00000000e+000 0.00000000e+000 0.00000000e+000]]\n"
          ],
          "name": "stdout"
        }
      ]
    },
    {
      "cell_type": "markdown",
      "metadata": {
        "id": "eg7vNMyFmNrE",
        "colab_type": "text"
      },
      "source": [
        "# matrixで二次元配列の作成"
      ]
    },
    {
      "cell_type": "code",
      "metadata": {
        "id": "T1s2pX8i09fr",
        "colab_type": "code",
        "outputId": "641c642d-9f5a-4351-8ded-9d2fbb49dae2",
        "colab": {
          "base_uri": "https://localhost:8080/",
          "height": 68
        }
      },
      "source": [
        "k=np.matrix([[0, 1, 2], [3, 4, 5], [6, 7, 8]])\n",
        "print('k=',k)"
      ],
      "execution_count": 0,
      "outputs": [
        {
          "output_type": "stream",
          "text": [
            "k= [[0 1 2]\n",
            " [3 4 5]\n",
            " [6 7 8]]\n"
          ],
          "name": "stdout"
        }
      ]
    },
    {
      "cell_type": "code",
      "metadata": {
        "id": "VhVdkCI809fu",
        "colab_type": "code",
        "outputId": "2646d731-f04d-47dd-a999-e3062ff9d71b",
        "colab": {
          "base_uri": "https://localhost:8080/",
          "height": 68
        }
      },
      "source": [
        "l = np.matrix([[1, 1, 1], [1, 1, 1], [1, 1, 1]])\n",
        "print('l=',l)"
      ],
      "execution_count": 0,
      "outputs": [
        {
          "output_type": "stream",
          "text": [
            "l= [[1 1 1]\n",
            " [1 1 1]\n",
            " [1 1 1]]\n"
          ],
          "name": "stdout"
        }
      ]
    },
    {
      "cell_type": "code",
      "metadata": {
        "id": "QfurIoXl09fw",
        "colab_type": "code",
        "outputId": "93887cef-9c68-48fa-d7ad-c09a7890ce03",
        "colab": {
          "base_uri": "https://localhost:8080/",
          "height": 68
        }
      },
      "source": [
        "m=np.dot(k,l)\n",
        "print('m=',m)"
      ],
      "execution_count": 0,
      "outputs": [
        {
          "output_type": "stream",
          "text": [
            "m= [[ 3  3  3]\n",
            " [12 12 12]\n",
            " [21 21 21]]\n"
          ],
          "name": "stdout"
        }
      ]
    },
    {
      "cell_type": "markdown",
      "metadata": {
        "id": "gpL5IB3q09fz",
        "colab_type": "text"
      },
      "source": [
        "# shapeで次元ごとの要素すを取得する"
      ]
    },
    {
      "cell_type": "code",
      "metadata": {
        "id": "N6zFpXwQ09f0",
        "colab_type": "code",
        "outputId": "8cabea16-9bab-4326-9dda-10326d0ebcc1",
        "colab": {
          "base_uri": "https://localhost:8080/",
          "height": 34
        }
      },
      "source": [
        "m.shape\n",
        "print('m.shape',m.shape)"
      ],
      "execution_count": 0,
      "outputs": [
        {
          "output_type": "stream",
          "text": [
            "m.shape (3, 3)\n"
          ],
          "name": "stdout"
        }
      ]
    },
    {
      "cell_type": "markdown",
      "metadata": {
        "id": "o0qA0nynm6fC",
        "colab_type": "text"
      },
      "source": [
        "\n",
        "#ndimで次元構造を取得する\n"
      ]
    },
    {
      "cell_type": "code",
      "metadata": {
        "id": "H696kGLc09f3",
        "colab_type": "code",
        "outputId": "95968a77-5e22-4c08-cae7-464ce3cb65ed",
        "colab": {
          "base_uri": "https://localhost:8080/",
          "height": 34
        }
      },
      "source": [
        "m.ndim\n",
        "print('m.ndim',m.ndim)"
      ],
      "execution_count": 0,
      "outputs": [
        {
          "output_type": "stream",
          "text": [
            "m.ndim 2\n"
          ],
          "name": "stdout"
        }
      ]
    },
    {
      "cell_type": "markdown",
      "metadata": {
        "id": "QsYp9WlWnh6b",
        "colab_type": "text"
      },
      "source": [
        "# 配列要素のデータ型dtype\n"
      ]
    },
    {
      "cell_type": "code",
      "metadata": {
        "id": "tyRqekx509f6",
        "colab_type": "code",
        "outputId": "03c2cc33-dabf-4f3c-d0e4-402662290ff0",
        "colab": {
          "base_uri": "https://localhost:8080/",
          "height": 34
        }
      },
      "source": [
        "m.dtype.name\n",
        "print('m.dtype.name',m.dtype.name)"
      ],
      "execution_count": 0,
      "outputs": [
        {
          "output_type": "stream",
          "text": [
            "m.dtype.name int64\n"
          ],
          "name": "stdout"
        }
      ]
    },
    {
      "cell_type": "markdown",
      "metadata": {
        "id": "tOSrtPQzorPx",
        "colab_type": "text"
      },
      "source": [
        "# １要素のバイト数itemsize\n"
      ]
    },
    {
      "cell_type": "code",
      "metadata": {
        "id": "5NYACcQh09f7",
        "colab_type": "code",
        "outputId": "1aba9d47-5b5c-4114-e929-f76dcecbfd96",
        "colab": {
          "base_uri": "https://localhost:8080/",
          "height": 34
        }
      },
      "source": [
        "m.itemsize\n",
        "print('m 配列内、各要素のbyte数：',m.itemsize)"
      ],
      "execution_count": 0,
      "outputs": [
        {
          "output_type": "stream",
          "text": [
            "m 配列内、各要素のbyte数： 8\n"
          ],
          "name": "stdout"
        }
      ]
    },
    {
      "cell_type": "markdown",
      "metadata": {
        "id": "OKHz5LSqowCR",
        "colab_type": "text"
      },
      "source": [
        "# 配列の要素数size"
      ]
    },
    {
      "cell_type": "code",
      "metadata": {
        "id": "u6UuB1Wj09f-",
        "colab_type": "code",
        "outputId": "e263a886-81cc-4686-9029-a2b185dabba0",
        "colab": {
          "base_uri": "https://localhost:8080/",
          "height": 34
        }
      },
      "source": [
        "m.size\n",
        "print('m 総要素数：',m.size)"
      ],
      "execution_count": 0,
      "outputs": [
        {
          "output_type": "stream",
          "text": [
            "m 総要素数： 9\n"
          ],
          "name": "stdout"
        }
      ]
    },
    {
      "cell_type": "markdown",
      "metadata": {
        "id": "E6rMHDpx09gR",
        "colab_type": "text"
      },
      "source": [
        "# arangeで配列を生成する"
      ]
    },
    {
      "cell_type": "code",
      "metadata": {
        "scrolled": true,
        "id": "Pzt6D95b09gS",
        "colab_type": "code",
        "outputId": "8b56af05-3775-4109-db01-edb74009d1e5",
        "colab": {
          "base_uri": "https://localhost:8080/",
          "height": 136
        }
      },
      "source": [
        "q=np.arange(1000000).reshape(1000,1000)\n",
        "print('q=',q)"
      ],
      "execution_count": 0,
      "outputs": [
        {
          "output_type": "stream",
          "text": [
            "q= [[     0      1      2 ...    997    998    999]\n",
            " [  1000   1001   1002 ...   1997   1998   1999]\n",
            " [  2000   2001   2002 ...   2997   2998   2999]\n",
            " ...\n",
            " [997000 997001 997002 ... 997997 997998 997999]\n",
            " [998000 998001 998002 ... 998997 998998 998999]\n",
            " [999000 999001 999002 ... 999997 999998 999999]]\n"
          ],
          "name": "stdout"
        }
      ]
    },
    {
      "cell_type": "code",
      "metadata": {
        "id": "cq2ZdC1Q09ge",
        "colab_type": "code",
        "outputId": "130bcd9f-be0a-49a4-ab9c-1e923926cfa1",
        "colab": {
          "base_uri": "https://localhost:8080/",
          "height": 34
        }
      },
      "source": [
        "x=np.arange(10)\n",
        "print(x)"
      ],
      "execution_count": 0,
      "outputs": [
        {
          "output_type": "stream",
          "text": [
            "[0 1 2 3 4 5 6 7 8 9]\n"
          ],
          "name": "stdout"
        }
      ]
    },
    {
      "cell_type": "code",
      "metadata": {
        "id": "-_eBoj_r09gh",
        "colab_type": "code",
        "outputId": "aeb62d51-4486-462e-c422-15b87518cabb",
        "colab": {
          "base_uri": "https://localhost:8080/",
          "height": 34
        }
      },
      "source": [
        "x=np.arange(start=100,stop=600,step=100)\n",
        "print(x)"
      ],
      "execution_count": 0,
      "outputs": [
        {
          "output_type": "stream",
          "text": [
            "[100 200 300 400 500]\n"
          ],
          "name": "stdout"
        }
      ]
    },
    {
      "cell_type": "markdown",
      "metadata": {
        "id": "3L176ZZerb12",
        "colab_type": "text"
      },
      "source": [
        "# 配列要素データ型の変換astype\n"
      ]
    },
    {
      "cell_type": "code",
      "metadata": {
        "id": "Jr6aAOn-rd8z",
        "colab_type": "code",
        "outputId": "9cd6fe08-324d-4179-d8c8-3f9be0999bbb",
        "colab": {
          "base_uri": "https://localhost:8080/",
          "height": 51
        }
      },
      "source": [
        "x_float=x.astype('float32')\n",
        "print('x_float.dtype.name',x_float.dtype.name)\n",
        "print(x_float) "
      ],
      "execution_count": 0,
      "outputs": [
        {
          "output_type": "stream",
          "text": [
            "x_float.dtype.name float32\n",
            "[100. 200. 300. 400. 500.]\n"
          ],
          "name": "stdout"
        }
      ]
    }
  ]
}