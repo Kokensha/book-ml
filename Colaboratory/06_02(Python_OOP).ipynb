{
  "nbformat": 4,
  "nbformat_minor": 0,
  "metadata": {
    "colab": {
      "name": "06-02(Python OOP).ipynb",
      "version": "0.3.2",
      "provenance": [],
      "collapsed_sections": []
    },
    "kernelspec": {
      "name": "python3",
      "display_name": "Python 3"
    }
  },
  "cells": [
    {
      "cell_type": "markdown",
      "metadata": {
        "id": "VHl5PWxl-Plg",
        "colab_type": "text"
      },
      "source": [
        "# ロボットのクラス"
      ]
    },
    {
      "cell_type": "code",
      "metadata": {
        "id": "N9nd97Mc-UyQ",
        "colab_type": "code",
        "colab": {}
      },
      "source": [
        "class Robot:\n",
        "  # コンストラクタ\n",
        "  def __init__(self, robot_name, life):\n",
        "    self.name=robot_name\n",
        "    self.life=life\n",
        "  #  \n",
        "  def sayHello(self,guest_name):\n",
        "    print('Hello, ' + guest_name)\n",
        "  #\n",
        "  def sayRobotName(self):\n",
        "    print('My name is, ' + self.name)"
      ],
      "execution_count": 0,
      "outputs": []
    },
    {
      "cell_type": "code",
      "metadata": {
        "id": "exfivWaFJsv3",
        "colab_type": "code",
        "outputId": "f1341c12-931d-4bc3-d3e7-06c97c1dc4b8",
        "colab": {
          "base_uri": "https://localhost:8080/",
          "height": 51
        }
      },
      "source": [
        "my_robot=Robot('ロボット１号',100)\n",
        "# ロボットの名前を喋る\n",
        "my_robot.sayRobotName()\n",
        "# ロボットが挨拶する\n",
        "my_robot.sayHello('Kawashima')"
      ],
      "execution_count": 0,
      "outputs": [
        {
          "output_type": "stream",
          "text": [
            "My name is, ロボット１号\n",
            "Hello, Kawashima\n"
          ],
          "name": "stdout"
        }
      ]
    },
    {
      "cell_type": "markdown",
      "metadata": {
        "id": "7_-fobgxCwiu",
        "colab_type": "text"
      },
      "source": [
        "# 継承"
      ]
    },
    {
      "cell_type": "code",
      "metadata": {
        "id": "xYOEYvnEySNc",
        "colab_type": "code",
        "colab": {}
      },
      "source": [
        "class TakoRobot(Robot):\n",
        "  def __init__(self,robot_name,life):\n",
        "    # 親のコンストラクタを呼び出しするので、selfは要らない\n",
        "    super().__init__(robot_name,life)\n",
        "    \n",
        "  def do_takoyaki(self):\n",
        "    print('タコ焼きを作りました。')\n",
        "    "
      ],
      "execution_count": 0,
      "outputs": []
    },
    {
      "cell_type": "code",
      "metadata": {
        "id": "sUE-cENgaZx9",
        "colab_type": "code",
        "outputId": "a2608178-cf10-4590-93a8-a70ac94dd357",
        "colab": {
          "base_uri": "https://localhost:8080/",
          "height": 68
        }
      },
      "source": [
        "my_tako_robot=TakoRobot('タコ焼きできるロボット',100)\n",
        "# ロボットの名前を喋る\n",
        "my_tako_robot.sayRobotName()\n",
        "# ロボットが挨拶する\n",
        "my_tako_robot.sayHello('Kawashima')\n",
        "#\n",
        "my_tako_robot.do_takoyaki()"
      ],
      "execution_count": 0,
      "outputs": [
        {
          "output_type": "stream",
          "text": [
            "My name is, タコ焼きできるロボット\n",
            "Hello, Kawashima\n",
            "タコ焼きを作りました。\n"
          ],
          "name": "stdout"
        }
      ]
    },
    {
      "cell_type": "markdown",
      "metadata": {
        "id": "O4mc2HnWqHNa",
        "colab_type": "text"
      },
      "source": [
        "# オーバーライド"
      ]
    },
    {
      "cell_type": "code",
      "metadata": {
        "id": "koecumQ1qGUz",
        "colab_type": "code",
        "colab": {}
      },
      "source": [
        "class MayTakoRobot(TakoRobot):\n",
        "  def __init__(self,robot_name,life):\n",
        "    # 親のコンストラクタを呼び出しするので、selfは要らない\n",
        "    super().__init__(robot_name,life)\n",
        "    \n",
        "  def do_takoyaki(self):\n",
        "    print('五月の新しい風味のタコ焼きを作りました。')"
      ],
      "execution_count": 0,
      "outputs": []
    },
    {
      "cell_type": "code",
      "metadata": {
        "id": "GoCRj37JqQIw",
        "colab_type": "code",
        "outputId": "db8ecfdd-0765-466b-a4c6-54693d3a80d4",
        "colab": {
          "base_uri": "https://localhost:8080/",
          "height": 68
        }
      },
      "source": [
        "my_tako_robot=MayTakoRobot('タコ焼きできるロボット',100)\n",
        "# ロボットの名前を喋る\n",
        "my_tako_robot.sayRobotName()\n",
        "# ロボットが挨拶する\n",
        "my_tako_robot.sayHello('Kawashima')\n",
        "#\n",
        "my_tako_robot.do_takoyaki()"
      ],
      "execution_count": 0,
      "outputs": [
        {
          "output_type": "stream",
          "text": [
            "My name is, タコ焼きできるロボット\n",
            "Hello, Kawashima\n",
            "五月の新しい風味のタコ焼きを作りました。\n"
          ],
          "name": "stdout"
        }
      ]
    }
  ]
}