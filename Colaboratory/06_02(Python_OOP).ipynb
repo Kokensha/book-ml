{
 "cells": [
  {
   "cell_type": "markdown",
   "metadata": {
    "colab_type": "text",
    "id": "VHl5PWxl-Plg"
   },
   "source": [
    "# ロボットのクラス"
   ]
  },
  {
   "cell_type": "code",
   "execution_count": 0,
   "metadata": {
    "colab": {},
    "colab_type": "code",
    "id": "N9nd97Mc-UyQ"
   },
   "outputs": [],
   "source": [
    "class Robot:\n",
    "  # コンストラクタ\n",
    "  def __init__(self, robot_name, life):\n",
    "    self.name = robot_name\n",
    "    self.life = life\n",
    "  # 挨拶するメソッド\n",
    "  def sayHello(self, guest_name):\n",
    "    print('Hello, ' + guest_name)\n",
    "  # ロボットの名前を喋るメソッド\n",
    "  def sayRobotName(self):\n",
    "    print('My name is, ' + self.name)"
   ]
  },
  {
   "cell_type": "code",
   "execution_count": 0,
   "metadata": {
    "colab": {
     "base_uri": "https://localhost:8080/",
     "height": 51
    },
    "colab_type": "code",
    "id": "exfivWaFJsv3",
    "outputId": "f1341c12-931d-4bc3-d3e7-06c97c1dc4b8"
   },
   "outputs": [
    {
     "name": "stdout",
     "output_type": "stream",
     "text": [
      "My name is, ロボット１号\n",
      "Hello, Kawashima\n"
     ]
    }
   ],
   "source": [
    "my_robot = Robot('ロボット１号', 100)\n",
    "# ロボットの名前を喋る\n",
    "my_robot.sayRobotName()\n",
    "# ロボットが挨拶する\n",
    "my_robot.sayHello('Kawashima')"
   ]
  },
  {
   "cell_type": "markdown",
   "metadata": {
    "colab_type": "text",
    "id": "7_-fobgxCwiu"
   },
   "source": [
    "# 継承"
   ]
  },
  {
   "cell_type": "code",
   "execution_count": 0,
   "metadata": {
    "colab": {},
    "colab_type": "code",
    "id": "xYOEYvnEySNc"
   },
   "outputs": [],
   "source": [
    "class TakoRobot(Robot):\n",
    "  def __init__(self, robot_name, life):\n",
    "    # 親のコンストラクタを呼び出しするので、selfは要らない\n",
    "    super().__init__(robot_name, life)\n",
    "    \n",
    "  def do_takoyaki(self):\n",
    "    print('タコ焼きを作りました。')\n",
    "    "
   ]
  },
  {
   "cell_type": "code",
   "execution_count": 0,
   "metadata": {
    "colab": {
     "base_uri": "https://localhost:8080/",
     "height": 68
    },
    "colab_type": "code",
    "id": "sUE-cENgaZx9",
    "outputId": "a2608178-cf10-4590-93a8-a70ac94dd357"
   },
   "outputs": [
    {
     "name": "stdout",
     "output_type": "stream",
     "text": [
      "My name is, タコ焼きできるロボット\n",
      "Hello, Kawashima\n",
      "タコ焼きを作りました。\n"
     ]
    }
   ],
   "source": [
    "my_tako_robot = TakoRobot('タコ焼きできるロボット',100)\n",
    "# ロボットの名前を喋る\n",
    "my_tako_robot.sayRobotName()\n",
    "# ロボットが挨拶する\n",
    "my_tako_robot.sayHello('Kawashima')\n",
    "#\n",
    "my_tako_robot.do_takoyaki()"
   ]
  },
  {
   "cell_type": "markdown",
   "metadata": {
    "colab_type": "text",
    "id": "O4mc2HnWqHNa"
   },
   "source": [
    "# オーバーライド"
   ]
  },
  {
   "cell_type": "code",
   "execution_count": 0,
   "metadata": {
    "colab": {},
    "colab_type": "code",
    "id": "koecumQ1qGUz"
   },
   "outputs": [],
   "source": [
    "class MayTakoRobot(TakoRobot):\n",
    "  def __init__(self, robot_name, life):\n",
    "    # 親のコンストラクタを呼び出しするので、selfは要らない\n",
    "    super().__init__(robot_name, life)\n",
    "    \n",
    "  def do_takoyaki(self):\n",
    "    print('五月の新しい風味のタコ焼きを作りました。')"
   ]
  },
  {
   "cell_type": "code",
   "execution_count": 0,
   "metadata": {
    "colab": {
     "base_uri": "https://localhost:8080/",
     "height": 68
    },
    "colab_type": "code",
    "id": "GoCRj37JqQIw",
    "outputId": "db8ecfdd-0765-466b-a4c6-54693d3a80d4"
   },
   "outputs": [
    {
     "name": "stdout",
     "output_type": "stream",
     "text": [
      "My name is, タコ焼きできるロボット\n",
      "Hello, Kawashima\n",
      "五月の新しい風味のタコ焼きを作りました。\n"
     ]
    }
   ],
   "source": [
    "my_tako_robot = MayTakoRobot('タコ焼きできるロボット', 100)\n",
    "# ロボットの名前を喋る\n",
    "my_tako_robot.sayRobotName()\n",
    "# ロボットが挨拶する\n",
    "my_tako_robot.sayHello('Kawashima')\n",
    "#\n",
    "my_tako_robot.do_takoyaki()"
   ]
  }
 ],
 "metadata": {
  "colab": {
   "collapsed_sections": [],
   "name": "06-02(Python OOP).ipynb",
   "provenance": [],
   "version": "0.3.2"
  },
  "kernelspec": {
   "display_name": "Python 3",
   "language": "python",
   "name": "python3"
  },
  "language_info": {
   "codemirror_mode": {
    "name": "ipython",
    "version": 3
   },
   "file_extension": ".py",
   "mimetype": "text/x-python",
   "name": "python",
   "nbconvert_exporter": "python",
   "pygments_lexer": "ipython3",
   "version": "3.6.8"
  }
 },
 "nbformat": 4,
 "nbformat_minor": 1
}
