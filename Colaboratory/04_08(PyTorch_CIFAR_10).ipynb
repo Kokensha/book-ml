{
  "nbformat": 4,
  "nbformat_minor": 0,
  "metadata": {
    "colab": {
      "name": "04-08(PyTorch CIFAR-10).ipynb",
      "version": "0.3.2",
      "provenance": [],
      "collapsed_sections": []
    },
    "kernelspec": {
      "name": "python3",
      "display_name": "Python 3"
    },
    "accelerator": "GPU"
  },
  "cells": [
    {
      "cell_type": "markdown",
      "metadata": {
        "id": "qihkh0XIGhkr",
        "colab_type": "text"
      },
      "source": [
        "# 下準備"
      ]
    },
    {
      "cell_type": "markdown",
      "metadata": {
        "id": "2ugZhAyFNMpm",
        "colab_type": "text"
      },
      "source": [
        "## PyTorchのインストール"
      ]
    },
    {
      "cell_type": "code",
      "metadata": {
        "id": "RWkFKCyKGC54",
        "colab_type": "code",
        "outputId": "fe22627a-f65b-4ed7-b04c-f51dfa80e3e7",
        "colab": {
          "base_uri": "https://localhost:8080/",
          "height": 119
        }
      },
      "source": [
        "!pip install torch torchvision"
      ],
      "execution_count": 0,
      "outputs": [
        {
          "output_type": "stream",
          "text": [
            "Requirement already satisfied: torch in /usr/local/lib/python3.6/dist-packages (1.1.0)\n",
            "Requirement already satisfied: torchvision in /usr/local/lib/python3.6/dist-packages (0.2.2.post3)\n",
            "Requirement already satisfied: numpy in /usr/local/lib/python3.6/dist-packages (from torch) (1.16.3)\n",
            "Requirement already satisfied: six in /usr/local/lib/python3.6/dist-packages (from torchvision) (1.12.0)\n",
            "Requirement already satisfied: pillow>=4.1.1 in /usr/local/lib/python3.6/dist-packages (from torchvision) (4.3.0)\n",
            "Requirement already satisfied: olefile in /usr/local/lib/python3.6/dist-packages (from pillow>=4.1.1->torchvision) (0.46)\n"
          ],
          "name": "stdout"
        }
      ]
    },
    {
      "cell_type": "markdown",
      "metadata": {
        "id": "i254_j0-NUkj",
        "colab_type": "text"
      },
      "source": [
        "## 必要なパッケージをインポートする"
      ]
    },
    {
      "cell_type": "code",
      "metadata": {
        "id": "Vix07zBJBlxs",
        "colab_type": "code",
        "colab": {}
      },
      "source": [
        "import torch\n",
        "import torchvision\n",
        "import torchvision.transforms as transforms"
      ],
      "execution_count": 0,
      "outputs": []
    },
    {
      "cell_type": "markdown",
      "metadata": {
        "id": "2r53ghy3NYwo",
        "colab_type": "text"
      },
      "source": [
        "##  transformを定義する\n",
        "\n"
      ]
    },
    {
      "cell_type": "code",
      "metadata": {
        "id": "Jvorr6qiNeAC",
        "colab_type": "code",
        "colab": {}
      },
      "source": [
        "transform = transforms.Compose( [transforms.ToTensor(), transforms.Normalize((0.5, 0.5, 0.5), (0.5, 0.5, 0.5))])"
      ],
      "execution_count": 0,
      "outputs": []
    },
    {
      "cell_type": "markdown",
      "metadata": {
        "id": "Qqvx8XOzNvS5",
        "colab_type": "text"
      },
      "source": [
        "## 学習データと検証データの用意"
      ]
    },
    {
      "cell_type": "code",
      "metadata": {
        "id": "kCyVPgFeBs_Q",
        "colab_type": "code",
        "outputId": "1242a25e-1971-4417-fbad-6b0ad311d620",
        "colab": {
          "base_uri": "https://localhost:8080/",
          "height": 51
        }
      },
      "source": [
        "# 学習データ\n",
        "train_data_with_teacher_labels = torchvision.datasets.CIFAR10(root='./data', train=True,download=True, transform=transform)\n",
        "train_data_loader = torch.utils.data.DataLoader(train_data_with_teacher_labels, batch_size=4,shuffle=True, num_workers=2)\n",
        "# 検証データ\n",
        "test_data_with_teacher_labels = torchvision.datasets.CIFAR10(root='./data', train=False, download=True, transform=transform)\n",
        "test_data_loader = torch.utils.data.DataLoader(test_data_with_teacher_labels, batch_size=4,shuffle=False, num_workers=2)"
      ],
      "execution_count": 0,
      "outputs": [
        {
          "output_type": "stream",
          "text": [
            "Files already downloaded and verified\n",
            "Files already downloaded and verified\n"
          ],
          "name": "stdout"
        }
      ]
    },
    {
      "cell_type": "markdown",
      "metadata": {
        "id": "Uxr8dFWArIMS",
        "colab_type": "text"
      },
      "source": [
        "## クラスの中身を設定する"
      ]
    },
    {
      "cell_type": "code",
      "metadata": {
        "id": "glIHxuA6rKtz",
        "colab_type": "code",
        "colab": {}
      },
      "source": [
        "class_names = ('plane', 'car', 'bird', 'cat','deer', 'dog', 'frog', 'horse', 'ship', 'truck')"
      ],
      "execution_count": 0,
      "outputs": []
    },
    {
      "cell_type": "markdown",
      "metadata": {
        "id": "qxnsnh3xGmAl",
        "colab_type": "text"
      },
      "source": [
        "# 調理手順"
      ]
    },
    {
      "cell_type": "code",
      "metadata": {
        "id": "DHwpORjbrT8P",
        "colab_type": "code",
        "colab": {}
      },
      "source": [
        "import matplotlib.pyplot as plt\n",
        "import numpy as np"
      ],
      "execution_count": 0,
      "outputs": []
    },
    {
      "cell_type": "markdown",
      "metadata": {
        "id": "05DEIB18rXW_",
        "colab_type": "text"
      },
      "source": [
        "## 画像を表示する関数"
      ]
    },
    {
      "cell_type": "code",
      "metadata": {
        "id": "bv9V5o5crW16",
        "colab_type": "code",
        "colab": {}
      },
      "source": [
        "def show_image(img):\n",
        "  img = img / 2 + 0.5\n",
        "  npimg = img.numpy()\n",
        "  plt.imshow(np.transpose(npimg, (1, 2, 0)))\n",
        "  plt.show()"
      ],
      "execution_count": 0,
      "outputs": []
    },
    {
      "cell_type": "markdown",
      "metadata": {
        "id": "wHhg5UrUtDza",
        "colab_type": "text"
      },
      "source": [
        "## CIFAR10の中身を見る"
      ]
    },
    {
      "cell_type": "code",
      "metadata": {
        "id": "gRZu2ecvBw3P",
        "colab_type": "code",
        "outputId": "6021ca72-66a0-4f25-9f5e-92d66eca2de3",
        "colab": {
          "base_uri": "https://localhost:8080/",
          "height": 184
        }
      },
      "source": [
        "# 学習データからちょっとデータを取ってきます\n",
        "data_iterator = iter(train_data_loader)\n",
        "images, labels = data_iterator.next()\n",
        "\n",
        "# 画像を表示します\n",
        "show_image(torchvision.utils.make_grid(images))\n",
        "# ラベルを表示します\n",
        "print(' '.join('%5s' % class_names[labels[j]] for j in range(4)))"
      ],
      "execution_count": 0,
      "outputs": [
        {
          "output_type": "display_data",
          "data": {
            "image/png": "[encoded data removed]",
            "text/plain": [
              "<Figure size 576x396 with 1 Axes>"
            ]
          },
          "metadata": {
            "tags": []
          }
        },
        {
          "output_type": "stream",
          "text": [
            "  car  frog  bird horse\n"
          ],
          "name": "stdout"
        }
      ]
    },
    {
      "cell_type": "markdown",
      "metadata": {
        "id": "_GyQ4iOtvIlv",
        "colab_type": "text"
      },
      "source": [
        "## 学習のニューラルネットワークの定義\n",
        "\n"
      ]
    },
    {
      "cell_type": "code",
      "metadata": {
        "id": "nOk6omnOCFcO",
        "colab_type": "code",
        "colab": {}
      },
      "source": [
        "import torch.nn as nn\n",
        "import torch.nn.functional as F\n",
        "\n",
        "class CNN(nn.Module):\n",
        "  def __init__(self):\n",
        "    super(CNN, self).__init__()\n",
        "    self.conv1 = nn.Conv2d(3, 6, 5)\n",
        "    self.pool = nn.MaxPool2d(2, 2)\n",
        "    self.conv2 = nn.Conv2d(6, 16, 5)\n",
        "    self.layer1 = nn.Linear(16 * 5 * 5, 120)\n",
        "    self.layer2 = nn.Linear(120, 84)\n",
        "    self.layer3 = nn.Linear(84, 10)\n",
        "\n",
        "  def forward(self, input_data):\n",
        "    input_data = self.pool(F.relu(self.conv1(input_data)))\n",
        "    input_data = self.pool(F.relu(self.conv2(input_data)))\n",
        "    input_data = input_data.view(-1, 16 * 5 * 5)\n",
        "    input_data = F.relu(self.layer1(input_data))\n",
        "    input_data = F.relu(self.layer2(input_data))\n",
        "    input_data = self.layer3(input_data)\n",
        "    return input_data\n",
        "\n",
        "model = CNN()"
      ],
      "execution_count": 0,
      "outputs": []
    },
    {
      "cell_type": "markdown",
      "metadata": {
        "id": "_k4YnHbrvXXe",
        "colab_type": "text"
      },
      "source": [
        "## optimizerの設定"
      ]
    },
    {
      "cell_type": "code",
      "metadata": {
        "id": "_o0uCkfsCIi9",
        "colab_type": "code",
        "colab": {}
      },
      "source": [
        "import torch.optim as optimizer\n",
        "\n",
        "criterion = nn.CrossEntropyLoss()\n",
        "optimizer = optimizer.SGD(model.parameters(), lr=0.001, momentum=0.9)"
      ],
      "execution_count": 0,
      "outputs": []
    },
    {
      "cell_type": "markdown",
      "metadata": {
        "id": "m5we3fFdva2Z",
        "colab_type": "text"
      },
      "source": [
        "## 学習"
      ]
    },
    {
      "cell_type": "code",
      "metadata": {
        "id": "A_1GSPwVCK8W",
        "colab_type": "code",
        "outputId": "276f91c8-7eb0-4c32-91cf-fb23d5f1d381",
        "colab": {
          "base_uri": "https://localhost:8080/",
          "height": 340
        }
      },
      "source": [
        "# 最大学習回数\n",
        "MAX_EPOCH=3\n",
        "\n",
        "#\n",
        "for epoch in range(MAX_EPOCH):\n",
        "\n",
        "  total_loss = 0.0\n",
        "  for i, data in enumerate(train_data_loader, 0):\n",
        "    # dataから学習対象データと教師ラベルデータを取り出します\n",
        "    train_data, teacher_labels = data\n",
        "\n",
        "    # 計算された勾配情報を削除します\n",
        "    optimizer.zero_grad()\n",
        "\n",
        "    # モデルでの予測を計算します\n",
        "    outputs = model(train_data)\n",
        "    \n",
        "    # lossとwによる微分計算します\n",
        "    loss = criterion(outputs, teacher_labels)\n",
        "    loss.backward()\n",
        "    \n",
        "    # 勾配を更新します\n",
        "    optimizer.step()\n",
        "\n",
        "    # 誤差を累計します\n",
        "    total_loss += loss.item()\n",
        "    \n",
        "    # 2000ミニバッチずつ、進捗を表示します\n",
        "    if i % 2000 == 1999:\n",
        "      print('学習進捗：[%d, %5d] loss: %.3f' %(epoch + 1, i + 1, total_loss / 2000))\n",
        "      total_loss = 0.0\n",
        "\n",
        "print('学習完了')"
      ],
      "execution_count": 0,
      "outputs": [
        {
          "output_type": "stream",
          "text": [
            "学習進捗：[1,  2000] loss: 2.231\n",
            "学習進捗：[1,  4000] loss: 1.875\n",
            "学習進捗：[1,  6000] loss: 1.725\n",
            "学習進捗：[1,  8000] loss: 1.614\n",
            "学習進捗：[1, 10000] loss: 1.540\n",
            "学習進捗：[1, 12000] loss: 1.481\n",
            "学習進捗：[2,  2000] loss: 1.418\n",
            "学習進捗：[2,  4000] loss: 1.366\n",
            "学習進捗：[2,  6000] loss: 1.324\n",
            "学習進捗：[2,  8000] loss: 1.304\n",
            "学習進捗：[2, 10000] loss: 1.308\n",
            "学習進捗：[2, 12000] loss: 1.261\n",
            "学習進捗：[3,  2000] loss: 1.192\n",
            "学習進捗：[3,  4000] loss: 1.218\n",
            "学習進捗：[3,  6000] loss: 1.187\n",
            "学習進捗：[3,  8000] loss: 1.162\n",
            "学習進捗：[3, 10000] loss: 1.180\n",
            "学習進捗：[3, 12000] loss: 1.161\n",
            "学習完了\n"
          ],
          "name": "stdout"
        }
      ]
    },
    {
      "cell_type": "markdown",
      "metadata": {
        "id": "TlMFjwFrtXg4",
        "colab_type": "text"
      },
      "source": [
        "## 個別データで検証"
      ]
    },
    {
      "cell_type": "code",
      "metadata": {
        "id": "cguK6HzZCOmZ",
        "colab_type": "code",
        "outputId": "264a2686-de7a-4098-da05-2a4798868a83",
        "colab": {
          "base_uri": "https://localhost:8080/",
          "height": 184
        }
      },
      "source": [
        "data_iterator = iter(test_data_loader)\n",
        "images, labels = data_iterator.next()\n",
        "\n",
        "# 画像を表示します\n",
        "show_image(torchvision.utils.make_grid(images))\n",
        "print('正解教師ラベル: ', ' '.join('%5s' % class_names[labels[j]] for j in range(4)))"
      ],
      "execution_count": 0,
      "outputs": [
        {
          "output_type": "display_data",
          "data": {
            "image/png": "[encoded data removed]",
            "text/plain": [
              "<Figure size 576x396 with 1 Axes>"
            ]
          },
          "metadata": {
            "tags": []
          }
        },
        {
          "output_type": "stream",
          "text": [
            "正解教師ラベル:    cat  ship  ship plane\n"
          ],
          "name": "stdout"
        }
      ]
    },
    {
      "cell_type": "markdown",
      "metadata": {
        "id": "PcdWzXb4Gu5k",
        "colab_type": "text"
      },
      "source": [
        "## テスト"
      ]
    },
    {
      "cell_type": "code",
      "metadata": {
        "id": "aF8GAf3UGwIo",
        "colab_type": "code",
        "colab": {}
      },
      "source": [
        "outputs = model(images)"
      ],
      "execution_count": 0,
      "outputs": []
    },
    {
      "cell_type": "code",
      "metadata": {
        "id": "NZEWhDsgGy1Q",
        "colab_type": "code",
        "outputId": "1899c593-fd72-48a2-e218-bdbde28b5a63",
        "colab": {
          "base_uri": "https://localhost:8080/",
          "height": 34
        }
      },
      "source": [
        "_, predicted = torch.max(outputs, 1)\n",
        "\n",
        "print('予測: ', ' '.join('%5s' % class_names[predicted[j]] for j in range(4)))"
      ],
      "execution_count": 0,
      "outputs": [
        {
          "output_type": "stream",
          "text": [
            "予測:   frog  ship  ship  ship\n"
          ],
          "name": "stdout"
        }
      ]
    },
    {
      "cell_type": "markdown",
      "metadata": {
        "id": "Oy5TIYA0yYVD",
        "colab_type": "text"
      },
      "source": [
        "## 検証"
      ]
    },
    {
      "cell_type": "code",
      "metadata": {
        "id": "qRucBo1KG4yX",
        "colab_type": "code",
        "outputId": "1ea2eed5-8aa8-4f9a-d6b7-74bebf5ec13f",
        "colab": {
          "base_uri": "https://localhost:8080/",
          "height": 34
        }
      },
      "source": [
        "count_when_correct = 0\n",
        "total = 0\n",
        "with torch.no_grad():\n",
        "  for data in test_data_loader:\n",
        "    test_data, teacher_labels = data\n",
        "    results = model(test_data)\n",
        "    _, predicted = torch.max(results.data, 1)\n",
        "    total += teacher_labels.size(0)\n",
        "    count_when_correct += (predicted == teacher_labels).sum().item()\n",
        "\n",
        "print('10000 検証画像に対しての正解率: %d %%' % (100 * count_when_correct / total))"
      ],
      "execution_count": 0,
      "outputs": [
        {
          "output_type": "stream",
          "text": [
            "10000 検証画像に対しての正解率: 58 %\n"
          ],
          "name": "stdout"
        }
      ]
    },
    {
      "cell_type": "markdown",
      "metadata": {
        "id": "9DFabzYfyoOa",
        "colab_type": "text"
      },
      "source": [
        "## クラス毎の検証結果"
      ]
    },
    {
      "cell_type": "code",
      "metadata": {
        "id": "sfF7pryzHDQL",
        "colab_type": "code",
        "outputId": "fcae1fff-c567-4086-9959-3b1ec7cc4856",
        "colab": {
          "base_uri": "https://localhost:8080/",
          "height": 187
        }
      },
      "source": [
        "class_correct = list(0. for i in range(10))\n",
        "class_total = list(0. for i in range(10))\n",
        "#\n",
        "with torch.no_grad():\n",
        "  for data in test_data_loader:\n",
        "    #  \n",
        "    test_data, teacher_labels = data\n",
        "    #\n",
        "    results = model(test_data)\n",
        "    #\n",
        "    _, predicted = torch.max(results, 1)\n",
        "    #\n",
        "    c = (predicted == teacher_labels).squeeze()\n",
        "    #\n",
        "    for i in range(4):\n",
        "      label = teacher_labels[i]\n",
        "      #\n",
        "      class_correct[label] += c[i].item()\n",
        "      class_total[label] += 1\n",
        "\n",
        "\n",
        "for i in range(10):\n",
        "  print(' %5s クラスの正解率は: %2d %%' % (class_names[i], 100 * class_correct[i] / class_total[i]))"
      ],
      "execution_count": 0,
      "outputs": [
        {
          "output_type": "stream",
          "text": [
            " plane クラスの正解率は: 50 %\n",
            "   car クラスの正解率は: 68 %\n",
            "  bird クラスの正解率は: 44 %\n",
            "   cat クラスの正解率は: 46 %\n",
            "  deer クラスの正解率は: 52 %\n",
            "   dog クラスの正解率は: 47 %\n",
            "  frog クラスの正解率は: 82 %\n",
            " horse クラスの正解率は: 63 %\n",
            "  ship クラスの正解率は: 79 %\n",
            " truck クラスの正解率は: 53 %\n"
          ],
          "name": "stdout"
        }
      ]
    }
  ]
}