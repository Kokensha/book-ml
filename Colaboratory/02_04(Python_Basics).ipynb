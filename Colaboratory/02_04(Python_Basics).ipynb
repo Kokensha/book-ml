{
 "cells": [
  {
   "cell_type": "markdown",
   "metadata": {
    "colab_type": "text",
    "id": "UI8SY3HtxsSM"
   },
   "source": [
    "# 準備 \n",
    "\n",
    "## Pythonのバージョンを確認しよう"
   ]
  },
  {
   "cell_type": "code",
   "execution_count": 0,
   "metadata": {
    "colab": {
     "base_uri": "https://localhost:8080/",
     "height": 34
    },
    "colab_type": "code",
    "id": "yMuayWDWxxRa",
    "outputId": "342a0de7-4417-46d1-cc9a-e4fd2c0b0102"
   },
   "outputs": [
    {
     "name": "stdout",
     "output_type": "stream",
     "text": [
      "Python 3.6.7\n"
     ]
    }
   ],
   "source": [
    "!python --version"
   ]
  },
  {
   "cell_type": "markdown",
   "metadata": {
    "colab_type": "text",
    "id": "qKeQN1jVyD31"
   },
   "source": [
    "## インストールされているパッケージを確認しよう"
   ]
  },
  {
   "cell_type": "code",
   "execution_count": 0,
   "metadata": {
    "colab": {
     "base_uri": "https://localhost:8080/",
     "height": 5814
    },
    "colab_type": "code",
    "id": "ntdn5LoWyJJc",
    "outputId": "359e48bd-32d7-4971-a7b9-a5d268ca8e60"
   },
   "outputs": [
    {
     "name": "stdout",
     "output_type": "stream",
     "text": [
      "Package                  Version              \n",
      "------------------------ ---------------------\n",
      "absl-py                  0.6.1                \n",
      "alabaster                0.7.12               \n",
      "albumentations           0.1.10               \n",
      "altair                   2.3.0                \n",
      "astor                    0.7.1                \n",
      "astropy                  3.0.5                \n",
      "atari-py                 0.1.7                \n",
      "atomicwrites             1.2.1                \n",
      "attrs                    18.2.0               \n",
      "audioread                2.1.6                \n",
      "autograd                 1.2                  \n",
      "Babel                    2.6.0                \n",
      "backports.tempfile       1.0                  \n",
      "backports.weakref        1.0.post1            \n",
      "beautifulsoup4           4.6.3                \n",
      "bleach                   3.1.0                \n",
      "bokeh                    1.0.4                \n",
      "boto                     2.49.0               \n",
      "boto3                    1.9.78               \n",
      "botocore                 1.12.78              \n",
      "bs4                      0.0.1                \n",
      "bz2file                  0.98                 \n",
      "cachetools               3.0.0                \n",
      "certifi                  2018.11.29           \n",
      "cffi                     1.11.5               \n",
      "chainer                  5.0.0                \n",
      "chardet                  3.0.4                \n",
      "Click                    7.0                  \n",
      "cloudpickle              0.6.1                \n",
      "cmake                    3.12.0               \n",
      "colorlover               0.2.1                \n",
      "community                1.0.0b1              \n",
      "contextlib2              0.5.5                \n",
      "convertdate              2.1.3                \n",
      "coverage                 3.7.1                \n",
      "coveralls                0.5                  \n",
      "crcmod                   1.7                  \n",
      "cufflinks                0.14.6               \n",
      "cupy-cuda92              5.0.0                \n",
      "cvxopt                   1.2.2                \n",
      "cvxpy                    1.0.11               \n",
      "cycler                   0.10.0               \n",
      "cymem                    2.0.2                \n",
      "Cython                   0.29.2               \n",
      "cytoolz                  0.9.0.1              \n",
      "daft                     0.0.4                \n",
      "dask                     0.20.2               \n",
      "datascience              0.10.6               \n",
      "decorator                4.3.0                \n",
      "defusedxml               0.5.0                \n",
      "dill                     0.2.8.2              \n",
      "distributed              1.25.2               \n",
      "Django                   2.1.5                \n",
      "dlib                     19.16.0              \n",
      "dm-sonnet                1.23                 \n",
      "docopt                   0.6.2                \n",
      "docutils                 0.14                 \n",
      "dopamine-rl              1.0.5                \n",
      "easydict                 1.9                  \n",
      "ecos                     2.0.7.post1          \n",
      "editdistance             0.5.2                \n",
      "en-core-web-sm           2.0.0                \n",
      "entrypoints              0.3                  \n",
      "ephem                    3.7.6.0              \n",
      "et-xmlfile               1.0.1                \n",
      "fa2                      0.2                  \n",
      "fancyimpute              0.4.2                \n",
      "fastcache                1.0.2                \n",
      "fastdtw                  0.3.2                \n",
      "fastrlock                0.4                  \n",
      "fbprophet                0.4.post1            \n",
      "featuretools             0.4.1                \n",
      "filelock                 3.0.10               \n",
      "fix-yahoo-finance        0.0.22               \n",
      "Flask                    1.0.2                \n",
      "folium                   0.2.1                \n",
      "future                   0.16.0               \n",
      "gast                     0.2.2                \n",
      "GDAL                     2.2.2                \n",
      "gdown                    3.6.4                \n",
      "gensim                   3.6.0                \n",
      "geographiclib            1.49                 \n",
      "geopy                    1.17.0               \n",
      "gevent                   1.4.0                \n",
      "gin-config               0.1.2                \n",
      "glob2                    0.6                  \n",
      "google                   2.0.1                \n",
      "google-api-core          1.7.0                \n",
      "google-api-python-client 1.6.7                \n",
      "google-auth              1.4.2                \n",
      "google-auth-httplib2     0.0.3                \n",
      "google-auth-oauthlib     0.2.0                \n",
      "google-cloud-bigquery    1.1.0                \n",
      "google-cloud-core        0.28.1               \n",
      "google-cloud-language    1.0.2                \n",
      "google-cloud-storage     1.8.0                \n",
      "google-cloud-translate   1.3.3                \n",
      "google-colab             0.0.1a1              \n",
      "google-resumable-media   0.3.2                \n",
      "googleapis-common-protos 1.5.6                \n",
      "googledrivedownloader    0.3                  \n",
      "graph-nets               1.0.2                \n",
      "graphviz                 0.10.1               \n",
      "greenlet                 0.4.15               \n",
      "grpcio                   1.15.0               \n",
      "gspread                  3.0.1                \n",
      "gspread-dataframe        3.0.2                \n",
      "gunicorn                 19.9.0               \n",
      "gym                      0.10.9               \n",
      "h5py                     2.8.0                \n",
      "HeapDict                 1.0.0                \n",
      "holidays                 0.9.9                \n",
      "html5lib                 1.0.1                \n",
      "httpimport               0.5.16               \n",
      "httplib2                 0.11.3               \n",
      "humanize                 0.5.1                \n",
      "hyperopt                 0.1.1                \n",
      "ideep4py                 2.0.0.post3          \n",
      "idna                     2.6                  \n",
      "image                    1.5.27               \n",
      "imageio                  2.4.1                \n",
      "imagesize                1.1.0                \n",
      "imbalanced-learn         0.4.3                \n",
      "imblearn                 0.0                  \n",
      "imgaug                   0.2.6                \n",
      "imutils                  0.5.2                \n",
      "inflect                  2.1.0                \n",
      "intel-openmp             2019.0               \n",
      "intervaltree             2.1.0                \n",
      "ipykernel                4.6.1                \n",
      "ipython                  5.5.0                \n",
      "ipython-genutils         0.2.0                \n",
      "ipython-sql              0.3.9                \n",
      "ipywidgets               7.4.2                \n",
      "itsdangerous             1.1.0                \n",
      "jdcal                    1.4                  \n",
      "jieba                    0.39                 \n",
      "Jinja2                   2.10                 \n",
      "jmespath                 0.9.3                \n",
      "joblib                   0.13.1               \n",
      "jpeg4py                  0.1.4                \n",
      "jsonschema               2.6.0                \n",
      "jupyter                  1.0.0                \n",
      "jupyter-client           5.2.4                \n",
      "jupyter-console          6.0.0                \n",
      "jupyter-core             4.4.0                \n",
      "kaggle                   1.5.1.1              \n",
      "kapre                    0.1.3.1              \n",
      "Keras                    2.2.4                \n",
      "Keras-Applications       1.0.6                \n",
      "Keras-Preprocessing      1.0.5                \n",
      "keras-vis                0.4.1                \n",
      "kiwisolver               1.0.1                \n",
      "knnimpute                0.1.0                \n",
      "librosa                  0.6.2                \n",
      "lightgbm                 2.2.2                \n",
      "llvmlite                 0.27.0               \n",
      "lmdb                     0.94                 \n",
      "lucid                    0.3.8                \n",
      "lunardate                0.2.0                \n",
      "lxml                     4.2.6                \n",
      "magenta                  0.3.19               \n",
      "Markdown                 3.0.1                \n",
      "MarkupSafe               1.1.0                \n",
      "matplotlib               3.0.2                \n",
      "matplotlib-venn          0.11.5               \n",
      "mesh-tensorflow          0.0.5                \n",
      "mido                     1.2.6                \n",
      "mir-eval                 0.5                  \n",
      "missingno                0.4.1                \n",
      "mistune                  0.8.4                \n",
      "mkl                      2019.0               \n",
      "mlxtend                  0.14.0               \n",
      "more-itertools           5.0.0                \n",
      "moviepy                  0.2.3.5              \n",
      "mpi4py                   3.0.0                \n",
      "mpmath                   1.1.0                \n",
      "msgpack                  0.5.6                \n",
      "msgpack-numpy            0.4.3.2              \n",
      "multiprocess             0.70.6.1             \n",
      "multitasking             0.0.7                \n",
      "murmurhash               1.0.1                \n",
      "music21                  5.5.0                \n",
      "natsort                  5.5.0                \n",
      "nbconvert                5.4.0                \n",
      "nbformat                 4.4.0                \n",
      "networkx                 2.2                  \n",
      "nibabel                  2.3.2                \n",
      "nltk                     3.2.5                \n",
      "nose                     1.3.7                \n",
      "notebook                 5.2.2                \n",
      "np-utils                 0.5.9.0              \n",
      "numba                    0.40.1               \n",
      "numexpr                  2.6.9                \n",
      "numpy                    1.14.6               \n",
      "oauth2client             4.1.3                \n",
      "oauthlib                 3.0.0                \n",
      "okgrade                  0.4.3                \n",
      "olefile                  0.46                 \n",
      "opencv-contrib-python    3.4.3.18             \n",
      "opencv-python            3.4.5.20             \n",
      "openpyxl                 2.5.9                \n",
      "osqp                     0.5.0                \n",
      "packaging                18.0                 \n",
      "pandas                   0.22.0               \n",
      "pandas-datareader        0.7.0                \n",
      "pandas-gbq               0.4.1                \n",
      "pandas-profiling         1.4.1                \n",
      "pandocfilters            1.4.2                \n",
      "pathlib                  1.0.1                \n",
      "patsy                    0.5.1                \n",
      "pexpect                  4.6.0                \n",
      "pickleshare              0.7.5                \n",
      "Pillow                   4.0.0                \n",
      "pip                      18.1                 \n",
      "plac                     0.9.6                \n",
      "plotly                   1.12.12              \n",
      "pluggy                   0.8.1                \n",
      "portpicker               1.2.0                \n",
      "prefetch-generator       1.0.1                \n",
      "preshed                  2.0.1                \n",
      "pretty-midi              0.2.8                \n",
      "prettytable              0.7.2                \n",
      "progressbar2             3.38.0               \n",
      "promise                  2.2.1                \n",
      "prompt-toolkit           1.0.15               \n",
      "protobuf                 3.6.1                \n",
      "psutil                   5.4.8                \n",
      "psycopg2                 2.7.6.1              \n",
      "ptyprocess               0.6.0                \n",
      "py                       1.7.0                \n",
      "pyasn1                   0.4.5                \n",
      "pyasn1-modules           0.2.3                \n",
      "pycocotools              2.0.0                \n",
      "pycparser                2.19                 \n",
      "pydot                    1.3.0                \n",
      "pydot-ng                 2.0.0                \n",
      "pydotplus                2.0.2                \n",
      "pydub                    0.23.0               \n",
      "pyemd                    0.5.1                \n",
      "pyglet                   1.3.2                \n",
      "Pygments                 2.1.3                \n",
      "pygobject                3.26.1               \n",
      "pymc3                    3.6                  \n",
      "pymongo                  3.7.2                \n",
      "pymystem3                0.2.0                \n",
      "PyOpenGL                 3.1.0                \n",
      "pyparsing                2.3.1                \n",
      "pysndfile                1.3.2                \n",
      "PySocks                  1.6.8                \n",
      "pystache                 0.5.4                \n",
      "pystan                   2.18.1.0             \n",
      "pytest                   3.10.1               \n",
      "python-apt               1.6.3                \n",
      "python-chess             0.23.11              \n",
      "python-dateutil          2.5.3                \n",
      "python-louvain           0.13                 \n",
      "python-rtmidi            1.2.0                \n",
      "python-slugify           2.0.1                \n",
      "python-utils             2.3.0                \n",
      "pytz                     2018.9               \n",
      "PyWavelets               1.0.1                \n",
      "PyYAML                   3.13                 \n",
      "pyzmq                    17.0.0               \n",
      "qtconsole                4.4.3                \n",
      "regex                    2018.1.10            \n",
      "requests                 2.18.4               \n",
      "requests-oauthlib        1.2.0                \n",
      "resampy                  0.2.1                \n",
      "rsa                      4.0                  \n",
      "s3fs                     0.2.0                \n",
      "s3transfer               0.1.13               \n",
      "scikit-image             0.13.1               \n",
      "scikit-learn             0.20.2               \n",
      "scipy                    1.1.0                \n",
      "screen-resolution-extra  0.0.0                \n",
      "scs                      2.0.2                \n",
      "seaborn                  0.7.1                \n",
      "setuptools               40.6.3               \n",
      "setuptools-git           1.2                  \n",
      "simplegeneric            0.8.1                \n",
      "six                      1.11.0               \n",
      "sklearn                  0.0                  \n",
      "smart-open               1.7.1                \n",
      "snowballstemmer          1.2.1                \n",
      "sortedcontainers         2.1.0                \n",
      "spacy                    2.0.18               \n",
      "Sphinx                   1.8.3                \n",
      "sphinxcontrib-websupport 1.1.0                \n",
      "SQLAlchemy               1.2.16               \n",
      "sqlparse                 0.2.4                \n",
      "stable-baselines         2.2.1                \n",
      "statsmodels              0.8.0                \n",
      "sympy                    1.1.1                \n",
      "tables                   3.4.4                \n",
      "tabulate                 0.8.2                \n",
      "tblib                    1.3.2                \n",
      "tensor2tensor            1.11.0               \n",
      "tensorboard              1.12.2               \n",
      "tensorboardcolab         0.0.22               \n",
      "tensorflow               1.12.0               \n",
      "tensorflow-hub           0.2.0                \n",
      "tensorflow-metadata      0.9.0                \n",
      "tensorflow-probability   0.5.0                \n",
      "termcolor                1.1.0                \n",
      "terminado                0.8.1                \n",
      "testpath                 0.4.2                \n",
      "textblob                 0.15.2               \n",
      "textgenrnn               1.4.1                \n",
      "tfds-nightly             0.0.2.dev201901140014\n",
      "tflearn                  0.3.2                \n",
      "Theano                   1.0.3                \n",
      "thinc                    6.12.1               \n",
      "toolz                    0.9.0                \n",
      "tornado                  4.5.3                \n",
      "tqdm                     4.28.1               \n",
      "traitlets                4.3.2                \n",
      "tweepy                   3.6.0                \n",
      "ujson                    1.35                 \n",
      "umap-learn               0.3.7                \n",
      "Unidecode                1.0.23               \n",
      "uritemplate              3.0.0                \n",
      "urllib3                  1.22                 \n",
      "vega-datasets            0.7.0                \n",
      "wcwidth                  0.1.7                \n",
      "webencodings             0.5.1                \n",
      "Werkzeug                 0.14.1               \n",
      "wheel                    0.32.3               \n",
      "widgetsnbextension       3.4.2                \n",
      "wordcloud                1.5.0                \n",
      "wrapt                    1.11.0               \n",
      "xarray                   0.11.2               \n",
      "xgboost                  0.7.post4            \n",
      "xkit                     0.0.0                \n",
      "xlrd                     1.1.0                \n",
      "xlwt                     1.3.0                \n",
      "yellowbrick              0.9                  \n",
      "zict                     0.1.3                \n",
      "zmq                      0.0.0                \n"
     ]
    }
   ],
   "source": [
    "!pip list"
   ]
  },
  {
   "cell_type": "markdown",
   "metadata": {
    "colab_type": "text",
    "id": "GzDrX7cERdhn"
   },
   "source": [
    "# Python 基礎"
   ]
  },
  {
   "cell_type": "markdown",
   "metadata": {
    "colab_type": "text",
    "id": "C7rz3zPEsxaM"
   },
   "source": [
    "## Hello Worldと表示してみよう"
   ]
  },
  {
   "cell_type": "code",
   "execution_count": 0,
   "metadata": {
    "colab": {
     "base_uri": "https://localhost:8080/",
     "height": 34
    },
    "colab_type": "code",
    "id": "7Oeh6F4As0RM",
    "outputId": "be18eafb-5abc-4c8d-e69c-75a67bc4e7be"
   },
   "outputs": [
    {
     "name": "stdout",
     "output_type": "stream",
     "text": [
      "Hello World\n"
     ]
    }
   ],
   "source": [
    "print('Hello World')"
   ]
  },
  {
   "cell_type": "markdown",
   "metadata": {
    "colab_type": "text",
    "id": "fadwaeBRs614"
   },
   "source": [
    "## 日本語の出力"
   ]
  },
  {
   "cell_type": "code",
   "execution_count": 0,
   "metadata": {
    "colab": {
     "base_uri": "https://localhost:8080/",
     "height": 34
    },
    "colab_type": "code",
    "id": "Gf1IWyqAtEB9",
    "outputId": "e24aa07e-e8ff-4bdb-8eae-9d6b1bdd6100"
   },
   "outputs": [
    {
     "name": "stdout",
     "output_type": "stream",
     "text": [
      "日本語\n"
     ]
    }
   ],
   "source": [
    "print('日本語')"
   ]
  },
  {
   "cell_type": "markdown",
   "metadata": {
    "colab_type": "text",
    "id": "wXhNT1vHtIR8"
   },
   "source": [
    "## コメントの書き方"
   ]
  },
  {
   "cell_type": "code",
   "execution_count": 0,
   "metadata": {
    "colab": {
     "base_uri": "https://localhost:8080/",
     "height": 34
    },
    "colab_type": "code",
    "id": "nY1Qr-jTtO7g",
    "outputId": "17d07ca4-ce4e-4f1c-e498-445655e10e61"
   },
   "outputs": [
    {
     "name": "stdout",
     "output_type": "stream",
     "text": [
      "コメントの書き方は #で始まります。\n"
     ]
    }
   ],
   "source": [
    "# ここはコメントです、プログラムの実行に影響がありません\n",
    "print('コメントの書き方は #で始まります。')"
   ]
  },
  {
   "cell_type": "markdown",
   "metadata": {
    "colab_type": "text",
    "id": "4Eo_u-_btZPL"
   },
   "source": [
    "## 演算"
   ]
  },
  {
   "cell_type": "code",
   "execution_count": 0,
   "metadata": {
    "colab": {
     "base_uri": "https://localhost:8080/",
     "height": 119
    },
    "colab_type": "code",
    "id": "QlBV_ADatgU9",
    "outputId": "f206151a-8b72-4c81-e540-0aba6af15f7a"
   },
   "outputs": [
    {
     "name": "stdout",
     "output_type": "stream",
     "text": [
      "9\n",
      "-1\n",
      "9\n",
      "3.0\n",
      "1\n",
      "8\n"
     ]
    }
   ],
   "source": [
    "# 足し算 +\n",
    "print(4 + 5)\n",
    "# 引き算 -\n",
    "print(1 - 2)\n",
    "# 掛け算 *\n",
    "print(3 * 3)\n",
    "# 除算 /\n",
    "print(18 / 6)\n",
    "# 除算のあまりの数\n",
    "print(11 % 5)\n",
    "#　2の三乗\n",
    "print(2 ** 3)"
   ]
  },
  {
   "cell_type": "markdown",
   "metadata": {
    "colab_type": "text",
    "id": "M0WxTJEkRuQa"
   },
   "source": [
    "# 変数"
   ]
  },
  {
   "cell_type": "markdown",
   "metadata": {
    "colab_type": "text",
    "id": "9LCpheEnt0wj"
   },
   "source": [
    "## 変数とは"
   ]
  },
  {
   "cell_type": "code",
   "execution_count": 0,
   "metadata": {
    "colab": {
     "base_uri": "https://localhost:8080/",
     "height": 51
    },
    "colab_type": "code",
    "id": "Q75_7j3Ju6xm",
    "outputId": "826f3a42-9b26-4148-d346-e625f5cfe831"
   },
   "outputs": [
    {
     "name": "stdout",
     "output_type": "stream",
     "text": [
      "5\n",
      "10\n"
     ]
    }
   ],
   "source": [
    "# 一回目 5を入れる\n",
    "a_number_in_the_box = 5\n",
    "# その「変数」\n",
    "print(a_number_in_the_box)\n",
    "# 二回目 10を入れる\n",
    "a_number_in_the_box = 10\n",
    "# 上の4行目と全く同じですが、出力が違います。\n",
    "print(a_number_in_the_box)"
   ]
  },
  {
   "cell_type": "markdown",
   "metadata": {
    "colab_type": "text",
    "id": "fRh2AMxQen9O"
   },
   "source": [
    "## 文字列の変数"
   ]
  },
  {
   "cell_type": "code",
   "execution_count": 0,
   "metadata": {
    "colab": {
     "base_uri": "https://localhost:8080/",
     "height": 51
    },
    "colab_type": "code",
    "id": "6lLd8SbfvzjQ",
    "outputId": "598c2303-964c-4a2d-8579-b0079015a82f"
   },
   "outputs": [
    {
     "name": "stdout",
     "output_type": "stream",
     "text": [
      "こんにちは\n",
      "こんばんは\n"
     ]
    }
   ],
   "source": [
    "japanese_string = 'こんにちは'\n",
    "print(japanese_string)\n",
    "japanese_string = 'こんばんは'\n",
    "print(japanese_string)"
   ]
  },
  {
   "cell_type": "markdown",
   "metadata": {
    "colab_type": "text",
    "id": "9A3RACPUxBwi"
   },
   "source": [
    "## 文字列の連結"
   ]
  },
  {
   "cell_type": "code",
   "execution_count": 0,
   "metadata": {
    "colab": {
     "base_uri": "https://localhost:8080/",
     "height": 34
    },
    "colab_type": "code",
    "id": "lqUfTTbExHLr",
    "outputId": "14d75b48-4eda-4692-c38f-3ad99721fb25"
   },
   "outputs": [
    {
     "name": "stdout",
     "output_type": "stream",
     "text": [
      "こんにちは川島さん\n"
     ]
    }
   ],
   "source": [
    "my_name = '川島'\n",
    "print('こんにちは' + my_name + 'さん')"
   ]
  },
  {
   "cell_type": "markdown",
   "metadata": {
    "colab_type": "text",
    "id": "7GjFZwxL6oE4"
   },
   "source": [
    "# Pythonの型"
   ]
  },
  {
   "cell_type": "markdown",
   "metadata": {
    "colab_type": "text",
    "id": "YGuqYkdpxek3"
   },
   "source": [
    " ## 型の出力"
   ]
  },
  {
   "cell_type": "code",
   "execution_count": 0,
   "metadata": {
    "colab": {
     "base_uri": "https://localhost:8080/",
     "height": 34
    },
    "colab_type": "code",
    "id": "b_Ub6XBkximR",
    "outputId": "3b5ea98a-1e90-4235-8d1c-40be479dce37"
   },
   "outputs": [
    {
     "data": {
      "text/plain": [
       "int"
      ]
     },
     "execution_count": 10,
     "metadata": {
      "tags": []
     },
     "output_type": "execute_result"
    }
   ],
   "source": [
    "amount = 250\n",
    "type(amount)"
   ]
  },
  {
   "cell_type": "code",
   "execution_count": 0,
   "metadata": {
    "colab": {
     "base_uri": "https://localhost:8080/",
     "height": 102
    },
    "colab_type": "code",
    "id": "wI1ZZfcmyN6D",
    "outputId": "97b94774-886c-485e-845e-f7c11cb8ffd7"
   },
   "outputs": [
    {
     "name": "stdout",
     "output_type": "stream",
     "text": [
      "<class 'int'>\n",
      "<class 'str'>\n",
      "<class 'float'>\n",
      "<class 'tuple'>\n",
      "<class 'list'>\n"
     ]
    }
   ],
   "source": [
    "# int型\n",
    "test_integer = 256\n",
    "print(type(test_integer))\n",
    "# str型\n",
    "test_str = '文字列'\n",
    "print(type(test_str))\n",
    "# float型\n",
    "test_float = 3.1415926\n",
    "print(type(test_float))\n",
    "# tuple型\n",
    "test_tuple = (1, 2, 3, 4, 5)\n",
    "print(type(test_tuple))\n",
    "# list型 他の言語にもある「配列」です\n",
    "test_list=[1, 2, 3, 4, 5]\n",
    "print(type(test_list))"
   ]
  },
  {
   "cell_type": "markdown",
   "metadata": {
    "colab_type": "text",
    "id": "sIG1iyKFVYgu"
   },
   "source": [
    "## 型の変換"
   ]
  },
  {
   "cell_type": "code",
   "execution_count": 0,
   "metadata": {
    "colab": {
     "base_uri": "https://localhost:8080/",
     "height": 34
    },
    "colab_type": "code",
    "id": "ixaHF5BRVbnK",
    "outputId": "da81cb9b-3e7d-4260-9e98-ea2369646bdd"
   },
   "outputs": [
    {
     "name": "stdout",
     "output_type": "stream",
     "text": [
      "反復学習の回数：10回です。\n"
     ]
    }
   ],
   "source": [
    "num_of_epoch = 10\n",
    "print('反復学習の回数：' + str(num_of_epoch) + '回です。')"
   ]
  },
  {
   "cell_type": "markdown",
   "metadata": {
    "colab_type": "text",
    "id": "eK84_YyK63BG"
   },
   "source": [
    "## listの作り方"
   ]
  },
  {
   "cell_type": "code",
   "execution_count": 0,
   "metadata": {
    "colab": {
     "base_uri": "https://localhost:8080/",
     "height": 34
    },
    "colab_type": "code",
    "id": "D9lw6LnF7D81",
    "outputId": "fd96ea29-582a-457c-e687-67f3f01cbd54"
   },
   "outputs": [
    {
     "name": "stdout",
     "output_type": "stream",
     "text": [
      "['English', 'French', 'Japanese']\n"
     ]
    }
   ],
   "source": [
    "languages = ['English', 'French', 'Japanese']\n",
    "print(languages)"
   ]
  },
  {
   "cell_type": "code",
   "execution_count": 0,
   "metadata": {
    "colab": {
     "base_uri": "https://localhost:8080/",
     "height": 68
    },
    "colab_type": "code",
    "id": "sAGVoLDa7Wb_",
    "outputId": "f714a7ec-7978-4197-d914-0c035951aa57"
   },
   "outputs": [
    {
     "name": "stdout",
     "output_type": "stream",
     "text": [
      "[0, 0, 0]\n",
      "[255, 255, 255]\n",
      "[0, 255, 0]\n"
     ]
    }
   ],
   "source": [
    "# 黒のRBG値\n",
    "black_color_rgb = [0, 0, 0]\n",
    "print(black_color_rgb)\n",
    "# 白のRBG値\n",
    "white_color_rgb = [255, 255, 255]\n",
    "print(white_color_rgb)\n",
    "# 緑のRGB値\n",
    "green_color_rgb = [0, 255, 0]\n",
    "print(green_color_rgb)"
   ]
  },
  {
   "cell_type": "markdown",
   "metadata": {
    "colab_type": "text",
    "id": "nhng9tnn796t"
   },
   "source": [
    "## 二次元配列"
   ]
  },
  {
   "cell_type": "code",
   "execution_count": 0,
   "metadata": {
    "colab": {
     "base_uri": "https://localhost:8080/",
     "height": 34
    },
    "colab_type": "code",
    "id": "dPfRWGES73BK",
    "outputId": "42e0142c-1df7-4df4-b25c-5730876bfb4a"
   },
   "outputs": [
    {
     "name": "stdout",
     "output_type": "stream",
     "text": [
      "[[1, 0, 1], [1, 0, 1], [1, 0, 1]]\n"
     ]
    }
   ],
   "source": [
    "three_item_list = [1, 0, 1]\n",
    "three_item_matrix = [three_item_list, three_item_list, three_item_list] \n",
    "print(three_item_matrix)"
   ]
  },
  {
   "cell_type": "markdown",
   "metadata": {
    "colab_type": "text",
    "id": "G1D4yzvt8m5s"
   },
   "source": [
    "## 三次元配列\n"
   ]
  },
  {
   "cell_type": "code",
   "execution_count": 0,
   "metadata": {
    "colab": {
     "base_uri": "https://localhost:8080/",
     "height": 34
    },
    "colab_type": "code",
    "id": "TLwz5NfP8qa1",
    "outputId": "4723a385-9b3f-4912-c73d-b8b7d9910d63"
   },
   "outputs": [
    {
     "name": "stdout",
     "output_type": "stream",
     "text": [
      "[[[1, 0, 1], [1, 0, 1], [1, 0, 1]], [[1, 0, 1], [1, 0, 1], [1, 0, 1]], [[1, 0, 1], [1, 0, 1], [1, 0, 1]]]\n"
     ]
    }
   ],
   "source": [
    "three_item_list = [1,0,1]\n",
    "three_item_matrix = [three_item_list, three_item_list, three_item_list] \n",
    "three_three_matrix = [three_item_matrix, three_item_matrix, three_item_matrix]\n",
    "print(three_three_matrix)"
   ]
  },
  {
   "cell_type": "markdown",
   "metadata": {
    "colab_type": "text",
    "id": "BtIVdIfF8b71"
   },
   "source": [
    "## 文字の多次元配列"
   ]
  },
  {
   "cell_type": "code",
   "execution_count": 0,
   "metadata": {
    "colab": {
     "base_uri": "https://localhost:8080/",
     "height": 34
    },
    "colab_type": "code",
    "id": "yClbjhU59Bgh",
    "outputId": "2f4f53cb-7013-44d2-aef3-85810f467aec"
   },
   "outputs": [
    {
     "name": "stdout",
     "output_type": "stream",
     "text": [
      "[['二', '三', '四'], ['二', '三', '四'], ['二', '三', '四']]\n"
     ]
    }
   ],
   "source": [
    "string_list = ['二', '三', '四']\n",
    "three_item_matrix = [string_list, string_list, string_list] \n",
    "print(three_item_matrix)"
   ]
  },
  {
   "cell_type": "markdown",
   "metadata": {
    "colab_type": "text",
    "id": "6-rsbjWw9Obz"
   },
   "source": [
    "## リストからの値の出し方"
   ]
  },
  {
   "cell_type": "code",
   "execution_count": 0,
   "metadata": {
    "colab": {
     "base_uri": "https://localhost:8080/",
     "height": 68
    },
    "colab_type": "code",
    "id": "m4zn6-9V9Y-4",
    "outputId": "f3b15a36-2657-48c5-a9cc-a1daf9a49c63"
   },
   "outputs": [
    {
     "name": "stdout",
     "output_type": "stream",
     "text": [
      "〇番目の文字列\n",
      "一番目の文字列\n",
      "二番目の文字列\n"
     ]
    }
   ],
   "source": [
    "string_list = ['〇番目の文字列', '一番目の文字列', '二番目の文字列']\n",
    "\n",
    "print(string_list[0])\n",
    "print(string_list[1])\n",
    "print(string_list[2])"
   ]
  },
  {
   "cell_type": "markdown",
   "metadata": {
    "colab_type": "text",
    "id": "_CFpwu_sZqV-"
   },
   "source": [
    "## リストのスライス"
   ]
  },
  {
   "cell_type": "code",
   "execution_count": 0,
   "metadata": {
    "colab": {
     "base_uri": "https://localhost:8080/",
     "height": 102
    },
    "colab_type": "code",
    "id": "R8bhWeJKZrnE",
    "outputId": "1ca33daa-2e8a-4833-920d-0720e3134860"
   },
   "outputs": [
    {
     "name": "stdout",
     "output_type": "stream",
     "text": [
      "[1, 2, 3, 4, 5, 6]\n",
      "[1, 2, 3, 4]\n",
      "[1, 2, 3]\n",
      "[9, 10]\n",
      "[1, 2, 3, 4, 5, 6, 7, 8, 9, 10]\n"
     ]
    }
   ],
   "source": [
    "train_data = [1, 2, 3, 4, 5, 6, 7, 8, 9, 10]\n",
    "print(train_data[0:6])\n",
    "print(train_data[0:-6])\n",
    "print(train_data[:3])\n",
    "print(train_data[8:])\n",
    "print(train_data[0:100])"
   ]
  },
  {
   "cell_type": "markdown",
   "metadata": {
    "colab_type": "text",
    "id": "eseAx76iSGHs"
   },
   "source": [
    "## リスト要素の更新"
   ]
  },
  {
   "cell_type": "code",
   "execution_count": 0,
   "metadata": {
    "colab": {
     "base_uri": "https://localhost:8080/",
     "height": 34
    },
    "colab_type": "code",
    "id": "7e6IOa8jbwza",
    "outputId": "662148a1-1569-43d0-bb47-cd4354c73325"
   },
   "outputs": [
    {
     "name": "stdout",
     "output_type": "stream",
     "text": [
      "[999, 2, 3, 4, 5, 6, 7, 8, 9, 10]\n"
     ]
    }
   ],
   "source": [
    "train_data = [1, 2, 3, 4, 5, 6, 7, 8, 9, 10]\n",
    "train_data[0] = 999\n",
    "print(train_data)"
   ]
  },
  {
   "cell_type": "markdown",
   "metadata": {
    "colab_type": "text",
    "id": "JaY8lERQbtRF"
   },
   "source": [
    "## リスト要素の追加"
   ]
  },
  {
   "cell_type": "code",
   "execution_count": 0,
   "metadata": {
    "colab": {
     "base_uri": "https://localhost:8080/",
     "height": 68
    },
    "colab_type": "code",
    "id": "smd72_MObGl6",
    "outputId": "2e3154e6-0274-46b2-af48-65c2eb677b2f"
   },
   "outputs": [
    {
     "name": "stdout",
     "output_type": "stream",
     "text": [
      "[1, 2, 3, 4, 5, 6, 7, 8, 9, 10, 11]\n",
      "[1, 2, 3, 4, 5, 6, 7, 8, 9, 10, 11, 12]\n",
      "[1, 2, 3, 4, 5, 6, 7, 8, 9, 10, 11, 12, 13]\n"
     ]
    }
   ],
   "source": [
    "train_data = [1, 2, 3, 4, 5, 6, 7, 8, 9, 10]\n",
    "train_data = train_data + [11]\n",
    "print(train_data)\n",
    "train_data += [12]\n",
    "print(train_data)\n",
    "train_data.append(13)\n",
    "print(train_data)"
   ]
  },
  {
   "cell_type": "markdown",
   "metadata": {
    "colab_type": "text",
    "id": "712jacd0b5P5"
   },
   "source": [
    "## リスト要素の削除\n"
   ]
  },
  {
   "cell_type": "code",
   "execution_count": 0,
   "metadata": {
    "colab": {
     "base_uri": "https://localhost:8080/",
     "height": 34
    },
    "colab_type": "code",
    "id": "X6FEbJFRb7tJ",
    "outputId": "315b74a2-20b2-4c7a-96e6-810729960b68"
   },
   "outputs": [
    {
     "name": "stdout",
     "output_type": "stream",
     "text": [
      "[2, 3, 4, 5, 6, 7, 8, 9, 10]\n"
     ]
    }
   ],
   "source": [
    "train_data = [1, 2, 3, 4, 5, 6, 7, 8, 9, 10]\n",
    "del train_data[0]\n",
    "print(train_data)"
   ]
  },
  {
   "cell_type": "markdown",
   "metadata": {
    "colab_type": "text",
    "id": "0n86F6Qfd-NC"
   },
   "source": [
    "## リストの代入\n"
   ]
  },
  {
   "cell_type": "code",
   "execution_count": 0,
   "metadata": {
    "colab": {
     "base_uri": "https://localhost:8080/",
     "height": 51
    },
    "colab_type": "code",
    "id": "dFK35IU0d_3j",
    "outputId": "787a521b-162a-4a58-bc47-fb595a40376f"
   },
   "outputs": [
    {
     "name": "stdout",
     "output_type": "stream",
     "text": [
      "[2, 3, 4, 5, 6, 7, 8, 9, 10]\n",
      "[1, 2, 3, 4, 5, 6, 7, 8, 9, 10]\n"
     ]
    }
   ],
   "source": [
    "train_data = [1,2,3,4,5,6,7,8,9,10]\n",
    "train_data_new = train_data\n",
    "train_data_copy = train_data[:]\n",
    "# train_data_newは影響が受けます\n",
    "del train_data[0]\n",
    "print(train_data_new)\n",
    "print(train_data_copy)"
   ]
  },
  {
   "cell_type": "markdown",
   "metadata": {
    "colab_type": "text",
    "id": "cyi31MiLtjyL"
   },
   "source": [
    "# 条件分岐 \n",
    "\n",
    "## if文と条件式\n"
   ]
  },
  {
   "cell_type": "code",
   "execution_count": 0,
   "metadata": {
    "colab": {
     "base_uri": "https://localhost:8080/",
     "height": 51
    },
    "colab_type": "code",
    "id": "PWdFBpbpzmHZ",
    "outputId": "246e8603-7efd-4035-bb57-54ac63a0e9ca"
   },
   "outputs": [
    {
     "name": "stdout",
     "output_type": "stream",
     "text": [
      "True\n",
      "花は薔薇ですね\n"
     ]
    }
   ],
   "source": [
    "# flowerは花を入れる変数です。\n",
    "flower = 'rose'\n",
    "print(flower == 'rose')\n",
    "\n",
    "if flower == 'rose':\n",
    "  print('花は薔薇ですね')"
   ]
  },
  {
   "cell_type": "markdown",
   "metadata": {
    "colab_type": "text",
    "id": "-D2n05HQ1Omb"
   },
   "source": [
    "# else"
   ]
  },
  {
   "cell_type": "code",
   "execution_count": 0,
   "metadata": {
    "colab": {
     "base_uri": "https://localhost:8080/",
     "height": 51
    },
    "colab_type": "code",
    "id": "j2AnPIbZ1Rr2",
    "outputId": "a38dc9e6-7c1b-42aa-8dbb-d3112a95316b"
   },
   "outputs": [
    {
     "name": "stdout",
     "output_type": "stream",
     "text": [
      "False\n",
      "花は薔薇ではないですね\n"
     ]
    }
   ],
   "source": [
    "# flowerは花を入れる変数です。\n",
    "flower = 'tulip'\n",
    "print(flower == 'rose')\n",
    "\n",
    "if flower == 'rose':\n",
    "  print('花は薔薇ですね')\n",
    "else:\n",
    "  print('花は薔薇ではないですね')"
   ]
  },
  {
   "cell_type": "markdown",
   "metadata": {
    "colab_type": "text",
    "id": "-9RP6BCo2NZr"
   },
   "source": [
    "# elif"
   ]
  },
  {
   "cell_type": "code",
   "execution_count": 0,
   "metadata": {
    "colab": {
     "base_uri": "https://localhost:8080/",
     "height": 51
    },
    "colab_type": "code",
    "id": "zUFTlNxI2WOG",
    "outputId": "bc362153-cfe8-4df7-9c44-8b21e746a15e"
   },
   "outputs": [
    {
     "name": "stdout",
     "output_type": "stream",
     "text": [
      "False\n",
      "花はチューリップですね\n"
     ]
    }
   ],
   "source": [
    "# flowerは花を入れる変数です。\n",
    "flower = 'tulip'\n",
    "print(flower == 'rose')\n",
    "\n",
    "if flower == 'rose':\n",
    "  print('花は薔薇ですね')\n",
    "elif flower == 'tulip':\n",
    "  print('花はチューリップですね')\n",
    "else:\n",
    "  print('花は薔薇でもチューリップでもないですね。')"
   ]
  },
  {
   "cell_type": "markdown",
   "metadata": {
    "colab_type": "text",
    "id": "6_pOoFs23vJM"
   },
   "source": [
    "# 条件式の and、not、or"
   ]
  },
  {
   "cell_type": "code",
   "execution_count": 0,
   "metadata": {
    "colab": {
     "base_uri": "https://localhost:8080/",
     "height": 51
    },
    "colab_type": "code",
    "id": "NzQ5iXL731ym",
    "outputId": "e32a6e9c-1cf5-4ce6-ff11-975f0cc98b81"
   },
   "outputs": [
    {
     "name": "stdout",
     "output_type": "stream",
     "text": [
      "True\n",
      "AとBが同時にTrueの場合\n"
     ]
    }
   ],
   "source": [
    "A = True\n",
    "B = True\n",
    "\n",
    "print(A and B)\n",
    "if A and B:\n",
    "  print('AとBが同時にTrueの場合')"
   ]
  },
  {
   "cell_type": "code",
   "execution_count": 0,
   "metadata": {
    "colab": {
     "base_uri": "https://localhost:8080/",
     "height": 85
    },
    "colab_type": "code",
    "id": "3hhgF1Pz4krb",
    "outputId": "eecd207f-65ea-4744-ecc5-016302923e99"
   },
   "outputs": [
    {
     "name": "stdout",
     "output_type": "stream",
     "text": [
      "True\n",
      "AかBがどっちかTrueの場合\n",
      "True\n",
      "AかBがどっちかTrueの場合\n"
     ]
    }
   ],
   "source": [
    "A = True\n",
    "B = False\n",
    "\n",
    "print(A or B)\n",
    "if A or B:\n",
    "  print('AかBがどっちかTrueの場合')\n",
    "\n",
    "  \n",
    "A = False\n",
    "B = True \n",
    "\n",
    "print(A or B)\n",
    "if A or B:\n",
    "  print('AかBがどっちかTrueの場合')"
   ]
  },
  {
   "cell_type": "markdown",
   "metadata": {
    "colab_type": "text",
    "id": "vtOGi4mPQfGl"
   },
   "source": [
    "# for文\n",
    "\n"
   ]
  },
  {
   "cell_type": "code",
   "execution_count": 0,
   "metadata": {
    "colab": {
     "base_uri": "https://localhost:8080/",
     "height": 68
    },
    "colab_type": "code",
    "id": "GLQ7A8VChydW",
    "outputId": "764ce556-91f3-463f-87d1-0be11dd1be04"
   },
   "outputs": [
    {
     "name": "stdout",
     "output_type": "stream",
     "text": [
      "English\n",
      "French\n",
      "Japanese\n"
     ]
    }
   ],
   "source": [
    "languages = {'English': '英語', 'French': 'フランス語', 'Japanese': '日本語'}\n",
    "for one_language in languages:\n",
    "  print(one_language)"
   ]
  },
  {
   "cell_type": "code",
   "execution_count": 0,
   "metadata": {
    "colab": {
     "base_uri": "https://localhost:8080/",
     "height": 187
    },
    "colab_type": "code",
    "id": "hsgDCF-ihZ3u",
    "outputId": "4b618dc0-d164-493e-eb71-a272634e90c5"
   },
   "outputs": [
    {
     "name": "stdout",
     "output_type": "stream",
     "text": [
      "1\n",
      "2\n",
      "3\n",
      "4\n",
      "5\n",
      "6\n",
      "7\n",
      "8\n",
      "9\n",
      "10\n"
     ]
    }
   ],
   "source": [
    "train_data = [1, 2, 3, 4, 5, 6, 7, 8, 9, 10]\n",
    "for one_data in train_data:\n",
    "  print(one_data)"
   ]
  },
  {
   "cell_type": "code",
   "execution_count": 0,
   "metadata": {
    "colab": {
     "base_uri": "https://localhost:8080/",
     "height": 357
    },
    "colab_type": "code",
    "id": "jjnguahEjiLR",
    "outputId": "0185059f-626d-4895-c5b9-f7d09c854def"
   },
   "outputs": [
    {
     "name": "stdout",
     "output_type": "stream",
     "text": [
      "index:0\n",
      "1\n",
      "index:1\n",
      "2\n",
      "index:2\n",
      "3\n",
      "index:3\n",
      "4\n",
      "index:4\n",
      "5\n",
      "index:5\n",
      "6\n",
      "index:6\n",
      "7\n",
      "index:7\n",
      "8\n",
      "index:8\n",
      "9\n",
      "index:9\n",
      "10\n"
     ]
    }
   ],
   "source": [
    "train_data = [1,2,3,4,5,6,7,8,9,10]\n",
    "for index,one_data in enumerate(train_data):\n",
    "  print('index:' + str(index))\n",
    "  print(one_data)"
   ]
  },
  {
   "cell_type": "markdown",
   "metadata": {
    "colab_type": "text",
    "id": "8J3hJoDe5v01"
   },
   "source": [
    "## range()による数値シーケンスの生成"
   ]
  },
  {
   "cell_type": "code",
   "execution_count": 0,
   "metadata": {
    "colab": {
     "base_uri": "https://localhost:8080/",
     "height": 119
    },
    "colab_type": "code",
    "id": "ybl78CE752PX",
    "outputId": "7ee8a3f9-1e59-4234-d02b-be99343574c6"
   },
   "outputs": [
    {
     "name": "stdout",
     "output_type": "stream",
     "text": [
      "0\n",
      "1\n",
      "2\n",
      "3\n",
      "4\n",
      "5\n"
     ]
    }
   ],
   "source": [
    "for number in range(0,6):\n",
    "  print(number)"
   ]
  },
  {
   "cell_type": "code",
   "execution_count": 0,
   "metadata": {
    "colab": {
     "base_uri": "https://localhost:8080/",
     "height": 204
    },
    "colab_type": "code",
    "id": "NN_xEPHx6oOT",
    "outputId": "06b393ee-9d97-4f10-8793-826f9f6d5503"
   },
   "outputs": [
    {
     "name": "stdout",
     "output_type": "stream",
     "text": [
      "0\n",
      "10\n",
      "20\n",
      "30\n",
      "40\n",
      "50\n",
      "60\n",
      "70\n",
      "80\n",
      "90\n",
      "100\n"
     ]
    }
   ],
   "source": [
    "for number in range(0,110,10):\n",
    "  print(number)"
   ]
  },
  {
   "cell_type": "code",
   "execution_count": 0,
   "metadata": {
    "colab": {
     "base_uri": "https://localhost:8080/",
     "height": 187
    },
    "colab_type": "code",
    "id": "hw9Naw_464uZ",
    "outputId": "ca40f2a1-06e9-42e1-e29c-fd7826b6788b"
   },
   "outputs": [
    {
     "name": "stdout",
     "output_type": "stream",
     "text": [
      "1\n",
      "2\n",
      "3\n",
      "4\n",
      "5\n",
      "6\n",
      "7\n",
      "8\n",
      "9\n",
      "10\n"
     ]
    }
   ],
   "source": [
    "train_data = [1,2,3,4,5,6,7,8,9,10]\n",
    "for num in range(0,len(train_data)):\n",
    "  print(train_data[num])"
   ]
  },
  {
   "cell_type": "code",
   "execution_count": 0,
   "metadata": {
    "colab": {
     "base_uri": "https://localhost:8080/",
     "height": 187
    },
    "colab_type": "code",
    "id": "Xz8softQ7T5R",
    "outputId": "08b0ebb3-d44d-4e92-ae61-822c665f9836"
   },
   "outputs": [
    {
     "name": "stdout",
     "output_type": "stream",
     "text": [
      "学習しました：0回\n",
      "学習しました：1回\n",
      "学習しました：2回\n",
      "学習しました：3回\n",
      "学習しました：4回\n",
      "学習しました：5回\n",
      "学習しました：6回\n",
      "学習しました：7回\n",
      "学習しました：8回\n",
      "学習しました：9回\n"
     ]
    }
   ],
   "source": [
    "number_of_epoch = 10\n",
    "for epoch in range(number_of_epoch):\n",
    "  print('学習しました：' + str(epoch) + '回')"
   ]
  },
  {
   "cell_type": "markdown",
   "metadata": {
    "colab_type": "text",
    "id": "kjWopkQTQiGC"
   },
   "source": [
    "# while文"
   ]
  },
  {
   "cell_type": "code",
   "execution_count": 0,
   "metadata": {
    "colab": {
     "base_uri": "https://localhost:8080/",
     "height": 136
    },
    "colab_type": "code",
    "id": "ALnXFL4Pif1P",
    "outputId": "49c25a5d-d334-4600-a2ac-a0c8b5bbc16d"
   },
   "outputs": [
    {
     "name": "stdout",
     "output_type": "stream",
     "text": [
      "1\n",
      "2\n",
      "3\n",
      "4\n",
      "5\n",
      "6\n",
      "7\n"
     ]
    }
   ],
   "source": [
    "train_data = [1, 2, 3, 4, 5, 6, 7, 8, 9, 10]\n",
    "counter = 0\n",
    "while counter < 7:\n",
    "  print(train_data[counter])\n",
    "  counter = counter + 1"
   ]
  },
  {
   "cell_type": "code",
   "execution_count": 0,
   "metadata": {
    "colab": {
     "base_uri": "https://localhost:8080/",
     "height": 170
    },
    "colab_type": "code",
    "id": "cYU5PnhLkCOF",
    "outputId": "4a9ca2ee-cfad-4e6e-ebb0-9a9a5aac2692"
   },
   "outputs": [
    {
     "name": "stdout",
     "output_type": "stream",
     "text": [
      "English\n",
      "英語\n",
      "--------\n",
      "French\n",
      "フランス語\n",
      "--------\n",
      "Japanese\n",
      "日本語\n",
      "--------\n"
     ]
    }
   ],
   "source": [
    "languages = {'English': '英語', 'French': 'フランス語', 'Japanese': '日本語'}\n",
    "for key, value in languages.items():\n",
    "  print(key)\n",
    "  print(value)\n",
    "  print('--------')"
   ]
  },
  {
   "cell_type": "markdown",
   "metadata": {
    "colab_type": "text",
    "id": "C8GpvyL9Qj3i"
   },
   "source": [
    "# 関数"
   ]
  },
  {
   "cell_type": "code",
   "execution_count": 0,
   "metadata": {
    "colab": {
     "base_uri": "https://localhost:8080/",
     "height": 170
    },
    "colab_type": "code",
    "id": "NtYdYDWmmzsK",
    "outputId": "aa1d1075-733d-4c04-ac79-a2f4ce46df48"
   },
   "outputs": [
    {
     "name": "stdout",
     "output_type": "stream",
     "text": [
      "English\n",
      "英語\n",
      "--------\n",
      "French\n",
      "フランス語\n",
      "--------\n",
      "Japanese\n",
      "日本語\n",
      "--------\n"
     ]
    }
   ],
   "source": [
    "languages = {'English': '英語', 'French': 'フランス語', 'Japanese': '日本語'}\n",
    "\n",
    "# 関数の定義\n",
    "def printLanguageTranslation(language_list):\n",
    "  for key, value in language_list.items():\n",
    "    print(key)\n",
    "    print(value)\n",
    "    print('--------')\n",
    "    \n",
    "# 関数を使う\n",
    "printLanguageTranslation(languages)"
   ]
  },
  {
   "cell_type": "markdown",
   "metadata": {
    "colab_type": "text",
    "id": "wx2Cp5dPhGFt"
   },
   "source": [
    "# import"
   ]
  },
  {
   "cell_type": "code",
   "execution_count": 0,
   "metadata": {
    "colab": {
     "base_uri": "https://localhost:8080/",
     "height": 34
    },
    "colab_type": "code",
    "id": "EUnkUM7bnwAf",
    "outputId": "2d6342f7-988c-4317-c731-2729ecb05951"
   },
   "outputs": [
    {
     "name": "stdout",
     "output_type": "stream",
     "text": [
      "1.14.6\n"
     ]
    }
   ],
   "source": [
    "import numpy as np\n",
    "\n",
    "print(np.__version__)"
   ]
  }
 ],
 "metadata": {
  "accelerator": "GPU",
  "colab": {
   "collapsed_sections": [],
   "name": "02-04(Python Basics).ipynb",
   "provenance": [],
   "version": "0.3.2"
  },
  "kernelspec": {
   "display_name": "Python 3",
   "language": "python",
   "name": "python3"
  },
  "language_info": {
   "codemirror_mode": {
    "name": "ipython",
    "version": 3
   },
   "file_extension": ".py",
   "mimetype": "text/x-python",
   "name": "python",
   "nbconvert_exporter": "python",
   "pygments_lexer": "ipython3",
   "version": "3.6.8"
  }
 },
 "nbformat": 4,
 "nbformat_minor": 1
}
