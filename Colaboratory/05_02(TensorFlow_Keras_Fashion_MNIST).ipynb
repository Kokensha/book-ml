{
  "nbformat": 4,
  "nbformat_minor": 0,
  "metadata": {
    "colab": {
      "name": "05-02(TensorFlow Keras Fashion MNIST).ipynb",
      "version": "0.3.2",
      "provenance": [],
      "collapsed_sections": []
    },
    "kernelspec": {
      "name": "python3",
      "display_name": "Python 3"
    },
    "accelerator": "GPU"
  },
  "cells": [
    {
      "cell_type": "markdown",
      "metadata": {
        "id": "l2nJ9sucTh6T",
        "colab_type": "text"
      },
      "source": [
        "# 下準備\n"
      ]
    },
    {
      "cell_type": "markdown",
      "metadata": {
        "id": "8fx6rbP4T1qf",
        "colab_type": "text"
      },
      "source": [
        "## TensorFlorのバージョン"
      ]
    },
    {
      "cell_type": "code",
      "metadata": {
        "id": "Zk8tajOC77Ah",
        "colab_type": "code",
        "outputId": "d7f17fa4-8631-40d4-fa6b-3e539d791929",
        "colab": {
          "base_uri": "https://localhost:8080/",
          "height": 34
        }
      },
      "source": [
        "import tensorflow as tf\n",
        "from tensorflow import keras\n",
        "\n",
        "import numpy as np\n",
        "import matplotlib.pyplot as plt\n",
        "\n",
        "print(tf.__version__)"
      ],
      "execution_count": 0,
      "outputs": [
        {
          "output_type": "stream",
          "text": [
            "1.13.1\n"
          ],
          "name": "stdout"
        }
      ]
    },
    {
      "cell_type": "markdown",
      "metadata": {
        "id": "p3QMD9AeT8xR",
        "colab_type": "text"
      },
      "source": [
        "## Fashion MNISTデータの取得"
      ]
    },
    {
      "cell_type": "code",
      "metadata": {
        "id": "7HX7VA8oMBYo",
        "colab_type": "code",
        "outputId": "b795d359-cf50-4326-9cae-caa4728a2d15",
        "colab": {
          "base_uri": "https://localhost:8080/",
          "height": 34
        }
      },
      "source": [
        "import keras"
      ],
      "execution_count": 0,
      "outputs": [
        {
          "output_type": "stream",
          "text": [
            "Using TensorFlow backend.\n"
          ],
          "name": "stderr"
        }
      ]
    },
    {
      "cell_type": "code",
      "metadata": {
        "id": "HxoVs_YJUAT0",
        "colab_type": "code",
        "outputId": "c6d0c5c8-3af1-4eed-c9eb-507f03677cc2",
        "colab": {
          "base_uri": "https://localhost:8080/",
          "height": 153
        }
      },
      "source": [
        "fashion_mnist = keras.datasets.fashion_mnist\n",
        "\n",
        "(train_data, train_teacher_labels), (test_data, test_teacher_labels) = fashion_mnist.load_data()"
      ],
      "execution_count": 0,
      "outputs": [
        {
          "output_type": "stream",
          "text": [
            "Downloading data from http://fashion-mnist.s3-website.eu-central-1.amazonaws.com/train-labels-idx1-ubyte.gz\n",
            "32768/29515 [=================================] - 0s 3us/step\n",
            "Downloading data from http://fashion-mnist.s3-website.eu-central-1.amazonaws.com/train-images-idx3-ubyte.gz\n",
            "26427392/26421880 [==============================] - 2s 0us/step\n",
            "Downloading data from http://fashion-mnist.s3-website.eu-central-1.amazonaws.com/t10k-labels-idx1-ubyte.gz\n",
            "8192/5148 [===============================================] - 0s 0us/step\n",
            "Downloading data from http://fashion-mnist.s3-website.eu-central-1.amazonaws.com/t10k-images-idx3-ubyte.gz\n",
            "4423680/4422102 [==============================] - 1s 0us/step\n"
          ],
          "name": "stdout"
        }
      ]
    },
    {
      "cell_type": "code",
      "metadata": {
        "id": "up1Nu0JUUHyJ",
        "colab_type": "code",
        "colab": {}
      },
      "source": [
        "fashion_names = ['T-shirt/top', 'Trouser', 'Pullover', 'Dress', 'Coat', \n",
        "               'Sandal', 'Shirt', 'Sneaker', 'Bag', 'Ankle boot']"
      ],
      "execution_count": 0,
      "outputs": []
    },
    {
      "cell_type": "markdown",
      "metadata": {
        "id": "EuiwmWe3UMr7",
        "colab_type": "text"
      },
      "source": [
        "## データセットを見る"
      ]
    },
    {
      "cell_type": "code",
      "metadata": {
        "id": "yvkqa7vdULUN",
        "colab_type": "code",
        "outputId": "9dd53d4e-d5bf-47af-b8c0-82216cb81050",
        "colab": {
          "base_uri": "https://localhost:8080/",
          "height": 34
        }
      },
      "source": [
        "train_data.shape"
      ],
      "execution_count": 0,
      "outputs": [
        {
          "output_type": "execute_result",
          "data": {
            "text/plain": [
              "(60000, 28, 28)"
            ]
          },
          "metadata": {
            "tags": []
          },
          "execution_count": 5
        }
      ]
    },
    {
      "cell_type": "code",
      "metadata": {
        "id": "J6dh1H6dUQUT",
        "colab_type": "code",
        "outputId": "d0b650d9-56ed-40ae-ab78-1e583e78c153",
        "colab": {
          "base_uri": "https://localhost:8080/",
          "height": 34
        }
      },
      "source": [
        "len(train_teacher_labels)"
      ],
      "execution_count": 0,
      "outputs": [
        {
          "output_type": "execute_result",
          "data": {
            "text/plain": [
              "60000"
            ]
          },
          "metadata": {
            "tags": []
          },
          "execution_count": 6
        }
      ]
    },
    {
      "cell_type": "markdown",
      "metadata": {
        "id": "46rYNo4eUgwD",
        "colab_type": "text"
      },
      "source": [
        "## 検証データの確認"
      ]
    },
    {
      "cell_type": "code",
      "metadata": {
        "id": "MsZgzK0YUdWG",
        "colab_type": "code",
        "outputId": "6409d42a-3ade-487b-a24f-7ba78589e8ec",
        "colab": {
          "base_uri": "https://localhost:8080/",
          "height": 34
        }
      },
      "source": [
        "test_data.shape"
      ],
      "execution_count": 0,
      "outputs": [
        {
          "output_type": "execute_result",
          "data": {
            "text/plain": [
              "(10000, 28, 28)"
            ]
          },
          "metadata": {
            "tags": []
          },
          "execution_count": 7
        }
      ]
    },
    {
      "cell_type": "code",
      "metadata": {
        "id": "3ysycoN8UjQh",
        "colab_type": "code",
        "outputId": "80ea9ce7-91e5-4816-8532-f5ac83838b59",
        "colab": {
          "base_uri": "https://localhost:8080/",
          "height": 34
        }
      },
      "source": [
        "len(test_teacher_labels)"
      ],
      "execution_count": 0,
      "outputs": [
        {
          "output_type": "execute_result",
          "data": {
            "text/plain": [
              "10000"
            ]
          },
          "metadata": {
            "tags": []
          },
          "execution_count": 8
        }
      ]
    },
    {
      "cell_type": "code",
      "metadata": {
        "id": "01g8y2ktUofC",
        "colab_type": "code",
        "outputId": "26d3756f-05f3-4fbb-b030-3566585bd1da",
        "colab": {
          "base_uri": "https://localhost:8080/",
          "height": 269
        }
      },
      "source": [
        "plt.figure()\n",
        "plt.imshow(train_data[3], cmap='inferno')\n",
        "plt.colorbar()\n",
        "plt.grid(False)"
      ],
      "execution_count": 0,
      "outputs": [
        {
          "output_type": "display_data",
          "data": {
            "image/png": "[encoded data removed]",
            "text/plain": [
              "<Figure size 432x288 with 2 Axes>"
            ]
          },
          "metadata": {
            "tags": []
          }
        }
      ]
    },
    {
      "cell_type": "markdown",
      "metadata": {
        "id": "_4DKnf5AUy_w",
        "colab_type": "text"
      },
      "source": [
        "## データセットの一部を描画する"
      ]
    },
    {
      "cell_type": "code",
      "metadata": {
        "id": "kNRZDagTUyL7",
        "colab_type": "code",
        "outputId": "ba996442-4348-4428-e0e3-501442891ef6",
        "colab": {
          "base_uri": "https://localhost:8080/",
          "height": 701
        }
      },
      "source": [
        "plt.figure(figsize=(12,12))\n",
        "for i in range(16):\n",
        "    plt.subplot(4,4,i+1)\n",
        "    plt.xticks([])\n",
        "    plt.yticks([])\n",
        "    plt.grid(False)\n",
        "    plt.imshow(train_data[i], cmap='inferno')\n",
        "    plt.xlabel(fashion_names[train_teacher_labels[i]])"
      ],
      "execution_count": 0,
      "outputs": [
        {
          "output_type": "display_data",
          "data": {
            "image/png": "[encoded data removed]",
            "text/plain": [
              "<Figure size 864x864 with 16 Axes>"
            ]
          },
          "metadata": {
            "tags": []
          }
        }
      ]
    },
    {
      "cell_type": "markdown",
      "metadata": {
        "id": "L7mZ8ZslTlMf",
        "colab_type": "text"
      },
      "source": [
        "# 調理手順"
      ]
    },
    {
      "cell_type": "markdown",
      "metadata": {
        "colab_type": "text",
        "id": "7SFaNQj8BsX0"
      },
      "source": [
        "## 設定"
      ]
    },
    {
      "cell_type": "code",
      "metadata": {
        "id": "g1DV2eYa3nSu",
        "colab_type": "code",
        "colab": {}
      },
      "source": [
        "BATCH_SIZE = 128\n",
        "NUM_CLASSES = 10\n",
        "EPOCHS = 20\n",
        "\n",
        "IMG_ROWS, IMG_COLS = 28, 28"
      ],
      "execution_count": 0,
      "outputs": []
    },
    {
      "cell_type": "markdown",
      "metadata": {
        "id": "-7IRDGe93dRC",
        "colab_type": "text"
      },
      "source": [
        "## 学習モデルに合わせてデータ調整"
      ]
    },
    {
      "cell_type": "code",
      "metadata": {
        "id": "B65r0SkQ44EL",
        "colab_type": "code",
        "colab": {}
      },
      "source": [
        "train_data = train_data.astype('float32')\n",
        "test_data = test_data.astype('float32')"
      ],
      "execution_count": 0,
      "outputs": []
    },
    {
      "cell_type": "code",
      "metadata": {
        "id": "agwwNj4846yF",
        "colab_type": "code",
        "colab": {}
      },
      "source": [
        "train_data /= 255\n",
        "test_data /= 255"
      ],
      "execution_count": 0,
      "outputs": []
    },
    {
      "cell_type": "code",
      "metadata": {
        "id": "FARH4_c-48SL",
        "colab_type": "code",
        "outputId": "77e1b85b-3c0e-44ba-ed66-3135090dd380",
        "colab": {
          "base_uri": "https://localhost:8080/",
          "height": 85
        }
      },
      "source": [
        "print('学習データ　train_data shape:', train_data.shape)\n",
        "print(train_data.shape[0], 'サンプルを学習します')\n",
        "print('検証データ　test_data shape:', train_data.shape)\n",
        "print(test_data.shape[0], 'サンプルを検証します')"
      ],
      "execution_count": 0,
      "outputs": [
        {
          "output_type": "stream",
          "text": [
            "学習データ　train_data shape: (60000, 28, 28)\n",
            "60000 サンプルを学習します\n",
            "検証データ　test_data shape: (60000, 28, 28)\n",
            "10000 サンプルを検証します\n"
          ],
          "name": "stdout"
        }
      ]
    },
    {
      "cell_type": "markdown",
      "metadata": {
        "id": "ctUcYyPaVCgE",
        "colab_type": "text"
      },
      "source": [
        "## 学習モデルの構築"
      ]
    },
    {
      "cell_type": "code",
      "metadata": {
        "id": "zG27l5amyetD",
        "colab_type": "code",
        "colab": {}
      },
      "source": [
        "from keras.models import Sequential\n",
        "from keras.layers import Dense, Flatten\n",
        "from keras.optimizers import Adam"
      ],
      "execution_count": 0,
      "outputs": []
    },
    {
      "cell_type": "code",
      "metadata": {
        "id": "KEW0FiSlFNuN",
        "colab_type": "code",
        "colab": {}
      },
      "source": [
        "model = Sequential()"
      ],
      "execution_count": 0,
      "outputs": []
    },
    {
      "cell_type": "code",
      "metadata": {
        "id": "9xiW_D5ZFVI9",
        "colab_type": "code",
        "outputId": "d01f685e-299d-461c-b59a-b6984979f632",
        "colab": {
          "base_uri": "https://localhost:8080/",
          "height": 88
        }
      },
      "source": [
        "# 入力層\n",
        "model.add(Flatten(input_shape=(IMG_ROWS, IMG_COLS)))\n",
        "# 中間層\n",
        "model.add(Dense(128, activation=tf.nn.relu))\n",
        "# 出力層\n",
        "model.add(Dense(10, activation=tf.nn.softmax))"
      ],
      "execution_count": 0,
      "outputs": [
        {
          "output_type": "stream",
          "text": [
            "WARNING:tensorflow:From /usr/local/lib/python3.6/dist-packages/tensorflow/python/framework/op_def_library.py:263: colocate_with (from tensorflow.python.framework.ops) is deprecated and will be removed in a future version.\n",
            "Instructions for updating:\n",
            "Colocations handled automatically by placer.\n"
          ],
          "name": "stdout"
        }
      ]
    },
    {
      "cell_type": "code",
      "metadata": {
        "id": "irJxLZnS-j-p",
        "colab_type": "code",
        "outputId": "9e61a53d-0603-415c-fcf1-8a5a116dfdf5",
        "colab": {
          "base_uri": "https://localhost:8080/",
          "height": 238
        }
      },
      "source": [
        "model.summary()"
      ],
      "execution_count": 0,
      "outputs": [
        {
          "output_type": "stream",
          "text": [
            "_________________________________________________________________\n",
            "Layer (type)                 Output Shape              Param #   \n",
            "=================================================================\n",
            "flatten_1 (Flatten)          (None, 784)               0         \n",
            "_________________________________________________________________\n",
            "dense_1 (Dense)              (None, 128)               100480    \n",
            "_________________________________________________________________\n",
            "dense_2 (Dense)              (None, 10)                1290      \n",
            "=================================================================\n",
            "Total params: 101,770\n",
            "Trainable params: 101,770\n",
            "Non-trainable params: 0\n",
            "_________________________________________________________________\n"
          ],
          "name": "stdout"
        }
      ]
    },
    {
      "cell_type": "markdown",
      "metadata": {
        "id": "RIyE6RHeTqYu",
        "colab_type": "text"
      },
      "source": [
        "## モデルのコンパイル\n"
      ]
    },
    {
      "cell_type": "code",
      "metadata": {
        "id": "EQuauts9Tsvu",
        "colab_type": "code",
        "colab": {}
      },
      "source": [
        "model.compile(optimizer=Adam(), \n",
        "              loss='sparse_categorical_crossentropy',\n",
        "              metrics=['accuracy'])"
      ],
      "execution_count": 0,
      "outputs": []
    },
    {
      "cell_type": "code",
      "metadata": {
        "id": "sGk20Bgc6SwM",
        "colab_type": "code",
        "colab": {}
      },
      "source": [
        "def plot_loss_accuracy_graph(fit_record):\n",
        "  # 青い線で誤差の履歴をプロットします、検証時誤差は黒い線で\n",
        "  plt.plot(fit_record.history['loss'], \"-D\", color=\"blue\", label=\"train_loss\", linewidth=2)\n",
        "  plt.plot(fit_record.history['val_loss'], \"-D\", color=\"black\", label=\"val_loss\", linewidth=2)\n",
        "  plt.title('LOSS')\n",
        "  plt.xlabel('Epochs')\n",
        "  plt.ylabel('Loss')\n",
        "  plt.legend(loc='upper right')\n",
        "  plt.show()\n",
        "  \n",
        "  # 緑の線で精度の履歴をプロットします、検証時制度は黒い線で\n",
        "  plt.plot(fit_record.history['acc'],\"-o\", color=\"green\", label=\"train_accuracy\", linewidth=2)\n",
        "  plt.plot(fit_record.history['val_acc'],\"-o\",color=\"black\", label=\"val_accuracy\", linewidth=2)\n",
        "  plt.title('ACCURACY')\n",
        "  plt.xlabel('Epochs')\n",
        "  plt.ylabel('Accuracy')\n",
        "  plt.legend(loc=\"lower right\")\n",
        "  plt.show()"
      ],
      "execution_count": 0,
      "outputs": []
    },
    {
      "cell_type": "markdown",
      "metadata": {
        "id": "UpoRZbNHVax3",
        "colab_type": "text"
      },
      "source": [
        "## 学習"
      ]
    },
    {
      "cell_type": "code",
      "metadata": {
        "id": "FjTk0fHiVe0Y",
        "colab_type": "code",
        "outputId": "c0e192c6-b010-4714-d7c7-debbd15f6546",
        "colab": {
          "base_uri": "https://localhost:8080/",
          "height": 802
        }
      },
      "source": [
        "print('反復学習回数：', EPOCHS)\n",
        "fit_record = model.fit(train_data, train_teacher_labels,\n",
        "          batch_size=BATCH_SIZE,\n",
        "          epochs=EPOCHS,\n",
        "          verbose=1,\n",
        "          validation_data=(test_data, test_teacher_labels))"
      ],
      "execution_count": 0,
      "outputs": [
        {
          "output_type": "stream",
          "text": [
            "反復学習回数： 20\n",
            "WARNING:tensorflow:From /usr/local/lib/python3.6/dist-packages/tensorflow/python/ops/math_ops.py:3066: to_int32 (from tensorflow.python.ops.math_ops) is deprecated and will be removed in a future version.\n",
            "Instructions for updating:\n",
            "Use tf.cast instead.\n",
            "Train on 60000 samples, validate on 10000 samples\n",
            "Epoch 1/20\n",
            "60000/60000 [==============================] - 4s 65us/step - loss: 0.5488 - acc: 0.8120 - val_loss: 0.4561 - val_acc: 0.8384\n",
            "Epoch 2/20\n",
            "60000/60000 [==============================] - 1s 24us/step - loss: 0.4055 - acc: 0.8580 - val_loss: 0.4100 - val_acc: 0.8568\n",
            "Epoch 3/20\n",
            "60000/60000 [==============================] - 1s 23us/step - loss: 0.3617 - acc: 0.8718 - val_loss: 0.3834 - val_acc: 0.8652\n",
            "Epoch 4/20\n",
            "60000/60000 [==============================] - 1s 24us/step - loss: 0.3372 - acc: 0.8795 - val_loss: 0.3795 - val_acc: 0.8666\n",
            "Epoch 5/20\n",
            "60000/60000 [==============================] - 1s 23us/step - loss: 0.3220 - acc: 0.8831 - val_loss: 0.3790 - val_acc: 0.8628\n",
            "Epoch 6/20\n",
            "60000/60000 [==============================] - 1s 23us/step - loss: 0.3042 - acc: 0.8903 - val_loss: 0.3552 - val_acc: 0.8735\n",
            "Epoch 7/20\n",
            "60000/60000 [==============================] - 2s 27us/step - loss: 0.2918 - acc: 0.8932 - val_loss: 0.3392 - val_acc: 0.8775\n",
            "Epoch 8/20\n",
            "60000/60000 [==============================] - 2s 27us/step - loss: 0.2779 - acc: 0.8982 - val_loss: 0.3371 - val_acc: 0.8796\n",
            "Epoch 9/20\n",
            "60000/60000 [==============================] - 2s 26us/step - loss: 0.2684 - acc: 0.9023 - val_loss: 0.3845 - val_acc: 0.8640\n",
            "Epoch 10/20\n",
            "60000/60000 [==============================] - 2s 26us/step - loss: 0.2587 - acc: 0.9061 - val_loss: 0.3366 - val_acc: 0.8781\n",
            "Epoch 11/20\n",
            "60000/60000 [==============================] - 2s 26us/step - loss: 0.2492 - acc: 0.9088 - val_loss: 0.3523 - val_acc: 0.8722\n",
            "Epoch 12/20\n",
            "60000/60000 [==============================] - 2s 26us/step - loss: 0.2459 - acc: 0.9097 - val_loss: 0.3340 - val_acc: 0.8832\n",
            "Epoch 13/20\n",
            "60000/60000 [==============================] - 1s 25us/step - loss: 0.2360 - acc: 0.9130 - val_loss: 0.3313 - val_acc: 0.8839\n",
            "Epoch 14/20\n",
            "60000/60000 [==============================] - 1s 24us/step - loss: 0.2281 - acc: 0.9158 - val_loss: 0.3472 - val_acc: 0.8784\n",
            "Epoch 15/20\n",
            "60000/60000 [==============================] - 1s 23us/step - loss: 0.2242 - acc: 0.9175 - val_loss: 0.3328 - val_acc: 0.8820\n",
            "Epoch 16/20\n",
            "60000/60000 [==============================] - 1s 23us/step - loss: 0.2173 - acc: 0.9199 - val_loss: 0.3288 - val_acc: 0.8840\n",
            "Epoch 17/20\n",
            "60000/60000 [==============================] - 1s 23us/step - loss: 0.2129 - acc: 0.9219 - val_loss: 0.3352 - val_acc: 0.8854\n",
            "Epoch 18/20\n",
            "60000/60000 [==============================] - 1s 23us/step - loss: 0.2064 - acc: 0.9249 - val_loss: 0.3305 - val_acc: 0.8834\n",
            "Epoch 19/20\n",
            "60000/60000 [==============================] - 1s 23us/step - loss: 0.1999 - acc: 0.9271 - val_loss: 0.3229 - val_acc: 0.8887\n",
            "Epoch 20/20\n",
            "60000/60000 [==============================] - 1s 24us/step - loss: 0.1975 - acc: 0.9277 - val_loss: 0.3314 - val_acc: 0.8841\n"
          ],
          "name": "stdout"
        }
      ]
    },
    {
      "cell_type": "markdown",
      "metadata": {
        "id": "SAbLwE4A_I-6",
        "colab_type": "text"
      },
      "source": [
        "## 学習プロセスのグラフ"
      ]
    },
    {
      "cell_type": "code",
      "metadata": {
        "id": "N4rCnO6C7h5Z",
        "colab_type": "code",
        "outputId": "4fd5139d-ff5d-4883-cfc2-5c83b5d5eaa1",
        "colab": {
          "base_uri": "https://localhost:8080/",
          "height": 573
        }
      },
      "source": [
        "plot_loss_accuracy_graph(fit_record)"
      ],
      "execution_count": 0,
      "outputs": [
        {
          "output_type": "display_data",
          "data": {
            "image/png": "[encoded data removed]",
            "text/plain": [
              "<Figure size 432x288 with 1 Axes>"
            ]
          },
          "metadata": {
            "tags": []
          }
        },
        {
          "output_type": "display_data",
          "data": {
            "image/png": "[encoded data removed]",
            "text/plain": [
              "<Figure size 432x288 with 1 Axes>"
            ]
          },
          "metadata": {
            "tags": []
          }
        }
      ]
    },
    {
      "cell_type": "markdown",
      "metadata": {
        "id": "TwPYPAJ5tQ1p",
        "colab_type": "text"
      },
      "source": [
        "## 検証"
      ]
    },
    {
      "cell_type": "code",
      "metadata": {
        "id": "g5-f3M72Vj-g",
        "colab_type": "code",
        "outputId": "71bcc974-db31-4c53-d619-98bb99bf1bab",
        "colab": {
          "base_uri": "https://localhost:8080/",
          "height": 68
        }
      },
      "source": [
        "result_score = model.evaluate(test_data, test_teacher_labels)\n",
        "\n",
        "print('検証誤差:', result_score[0])\n",
        "print('検証正確率:', result_score[1])"
      ],
      "execution_count": 0,
      "outputs": [
        {
          "output_type": "stream",
          "text": [
            "10000/10000 [==============================] - 0s 39us/step\n",
            "検証誤差: 0.33139895792007446\n",
            "検証正確率: 0.8841\n"
          ],
          "name": "stdout"
        }
      ]
    },
    {
      "cell_type": "markdown",
      "metadata": {
        "id": "vfw8RQeeVrSk",
        "colab_type": "text"
      },
      "source": [
        "## 予測"
      ]
    },
    {
      "cell_type": "code",
      "metadata": {
        "id": "TmcG9F8NWV-K",
        "colab_type": "code",
        "outputId": "3fc2b53e-418c-445d-802a-18a94f3e641b",
        "colab": {
          "base_uri": "https://localhost:8080/",
          "height": 34
        }
      },
      "source": [
        "# 検証データから画像を表示します\n",
        "data_location=4\n",
        "img = test_data[data_location]\n",
        "print(img.shape)"
      ],
      "execution_count": 0,
      "outputs": [
        {
          "output_type": "stream",
          "text": [
            "(28, 28)\n"
          ],
          "name": "stdout"
        }
      ]
    },
    {
      "cell_type": "code",
      "metadata": {
        "id": "azaeNCboWbNL",
        "colab_type": "code",
        "outputId": "fb6268b9-f34f-4fac-8c62-0ac83d0e348c",
        "colab": {
          "base_uri": "https://localhost:8080/",
          "height": 34
        }
      },
      "source": [
        "img = (np.expand_dims(img,0))\n",
        "print(img.shape)"
      ],
      "execution_count": 0,
      "outputs": [
        {
          "output_type": "stream",
          "text": [
            "(1, 28, 28)\n"
          ],
          "name": "stdout"
        }
      ]
    },
    {
      "cell_type": "code",
      "metadata": {
        "id": "WM_ZDZ2sWdhF",
        "colab_type": "code",
        "outputId": "3b1a22a5-4c70-42cd-e378-e000d084f7f4",
        "colab": {
          "base_uri": "https://localhost:8080/",
          "height": 51
        }
      },
      "source": [
        "predictions_result_array = model.predict(img)\n",
        "print(predictions_result_array)"
      ],
      "execution_count": 0,
      "outputs": [
        {
          "output_type": "stream",
          "text": [
            "[[2.4387923e-01 2.3574904e-08 1.8611666e-02 1.2909652e-03 5.1393820e-04\n",
            "  7.4329350e-08 7.3568809e-01 1.0252295e-11 1.5983398e-05 1.7549807e-09]]\n"
          ],
          "name": "stdout"
        }
      ]
    },
    {
      "cell_type": "code",
      "metadata": {
        "id": "RsnqdzySWlO4",
        "colab_type": "code",
        "outputId": "ee70f0d2-5f59-4dac-9d39-a833b5082e60",
        "colab": {
          "base_uri": "https://localhost:8080/",
          "height": 34
        }
      },
      "source": [
        "number=np.argmax(predictions_result_array[0])\n",
        "print('予測結果：',fashion_names[number])"
      ],
      "execution_count": 0,
      "outputs": [
        {
          "output_type": "stream",
          "text": [
            "予測結果： Shirt\n"
          ],
          "name": "stdout"
        }
      ]
    },
    {
      "cell_type": "markdown",
      "metadata": {
        "id": "NYIiUTFZuJqM",
        "colab_type": "text"
      },
      "source": [
        "## 学習済モデル保存"
      ]
    },
    {
      "cell_type": "code",
      "metadata": {
        "id": "QeETcE9wG7Is",
        "colab_type": "code",
        "colab": {}
      },
      "source": [
        "model.save('keras-fashion-mnist-model.h5')"
      ],
      "execution_count": 0,
      "outputs": []
    }
  ]
}